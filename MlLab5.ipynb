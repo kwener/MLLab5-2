{
 "cells": [
  {
   "cell_type": "markdown",
   "metadata": {},
   "source": [
    "Kiersten Wener\n",
    "Eli Chesnut "
   ]
  },
  {
   "cell_type": "code",
   "execution_count": 2,
   "metadata": {},
   "outputs": [],
   "source": [
    "# imports\n",
    "import pandas as pd\n",
    "import numpy as np\n",
    "import os"
   ]
  },
  {
   "cell_type": "code",
   "execution_count": 3,
   "metadata": {},
   "outputs": [
    {
     "name": "stderr",
     "output_type": "stream",
     "text": [
      "/Users/elichesnut/Documents/GitHub/MLLab5-2/.venv/lib/python3.12/site-packages/tqdm/auto.py:21: TqdmWarning: IProgress not found. Please update jupyter and ipywidgets. See https://ipywidgets.readthedocs.io/en/stable/user_install.html\n",
      "  from .autonotebook import tqdm as notebook_tqdm\n"
     ]
    },
    {
     "name": "stdout",
     "output_type": "stream",
     "text": [
      "Path to dataset files: /Users/elichesnut/.cache/kagglehub/datasets/fatemehmehrparvar/obesity-levels/versions/1\n"
     ]
    }
   ],
   "source": [
    "import kagglehub\n",
    "path = kagglehub.dataset_download(\"fatemehmehrparvar/obesity-levels\")\n",
    "csv_file_path = os.path.join(path, \"ObesityDataSet_raw_and_data_sinthetic.csv\") \n",
    "print(\"Path to dataset files:\", path)"
   ]
  },
  {
   "cell_type": "code",
   "execution_count": 4,
   "metadata": {},
   "outputs": [
    {
     "data": {
      "text/html": [
       "<div>\n",
       "<style scoped>\n",
       "    .dataframe tbody tr th:only-of-type {\n",
       "        vertical-align: middle;\n",
       "    }\n",
       "\n",
       "    .dataframe tbody tr th {\n",
       "        vertical-align: top;\n",
       "    }\n",
       "\n",
       "    .dataframe thead th {\n",
       "        text-align: right;\n",
       "    }\n",
       "</style>\n",
       "<table border=\"1\" class=\"dataframe\">\n",
       "  <thead>\n",
       "    <tr style=\"text-align: right;\">\n",
       "      <th></th>\n",
       "      <th>Age</th>\n",
       "      <th>Gender</th>\n",
       "      <th>Height</th>\n",
       "      <th>Weight</th>\n",
       "      <th>CALC</th>\n",
       "      <th>FAVC</th>\n",
       "      <th>FCVC</th>\n",
       "      <th>NCP</th>\n",
       "      <th>SCC</th>\n",
       "      <th>SMOKE</th>\n",
       "      <th>CH2O</th>\n",
       "      <th>family_history_with_overweight</th>\n",
       "      <th>FAF</th>\n",
       "      <th>TUE</th>\n",
       "      <th>CAEC</th>\n",
       "      <th>MTRANS</th>\n",
       "      <th>NObeyesdad</th>\n",
       "    </tr>\n",
       "  </thead>\n",
       "  <tbody>\n",
       "    <tr>\n",
       "      <th>0</th>\n",
       "      <td>21.0</td>\n",
       "      <td>Female</td>\n",
       "      <td>1.62</td>\n",
       "      <td>64.0</td>\n",
       "      <td>no</td>\n",
       "      <td>no</td>\n",
       "      <td>2.0</td>\n",
       "      <td>3.0</td>\n",
       "      <td>no</td>\n",
       "      <td>no</td>\n",
       "      <td>2.0</td>\n",
       "      <td>yes</td>\n",
       "      <td>0.0</td>\n",
       "      <td>1.0</td>\n",
       "      <td>Sometimes</td>\n",
       "      <td>Public_Transportation</td>\n",
       "      <td>Normal_Weight</td>\n",
       "    </tr>\n",
       "    <tr>\n",
       "      <th>1</th>\n",
       "      <td>21.0</td>\n",
       "      <td>Female</td>\n",
       "      <td>1.52</td>\n",
       "      <td>56.0</td>\n",
       "      <td>Sometimes</td>\n",
       "      <td>no</td>\n",
       "      <td>3.0</td>\n",
       "      <td>3.0</td>\n",
       "      <td>yes</td>\n",
       "      <td>yes</td>\n",
       "      <td>3.0</td>\n",
       "      <td>yes</td>\n",
       "      <td>3.0</td>\n",
       "      <td>0.0</td>\n",
       "      <td>Sometimes</td>\n",
       "      <td>Public_Transportation</td>\n",
       "      <td>Normal_Weight</td>\n",
       "    </tr>\n",
       "    <tr>\n",
       "      <th>2</th>\n",
       "      <td>23.0</td>\n",
       "      <td>Male</td>\n",
       "      <td>1.80</td>\n",
       "      <td>77.0</td>\n",
       "      <td>Frequently</td>\n",
       "      <td>no</td>\n",
       "      <td>2.0</td>\n",
       "      <td>3.0</td>\n",
       "      <td>no</td>\n",
       "      <td>no</td>\n",
       "      <td>2.0</td>\n",
       "      <td>yes</td>\n",
       "      <td>2.0</td>\n",
       "      <td>1.0</td>\n",
       "      <td>Sometimes</td>\n",
       "      <td>Public_Transportation</td>\n",
       "      <td>Normal_Weight</td>\n",
       "    </tr>\n",
       "    <tr>\n",
       "      <th>3</th>\n",
       "      <td>27.0</td>\n",
       "      <td>Male</td>\n",
       "      <td>1.80</td>\n",
       "      <td>87.0</td>\n",
       "      <td>Frequently</td>\n",
       "      <td>no</td>\n",
       "      <td>3.0</td>\n",
       "      <td>3.0</td>\n",
       "      <td>no</td>\n",
       "      <td>no</td>\n",
       "      <td>2.0</td>\n",
       "      <td>no</td>\n",
       "      <td>2.0</td>\n",
       "      <td>0.0</td>\n",
       "      <td>Sometimes</td>\n",
       "      <td>Walking</td>\n",
       "      <td>Overweight_Level_I</td>\n",
       "    </tr>\n",
       "    <tr>\n",
       "      <th>4</th>\n",
       "      <td>22.0</td>\n",
       "      <td>Male</td>\n",
       "      <td>1.78</td>\n",
       "      <td>89.8</td>\n",
       "      <td>Sometimes</td>\n",
       "      <td>no</td>\n",
       "      <td>2.0</td>\n",
       "      <td>1.0</td>\n",
       "      <td>no</td>\n",
       "      <td>no</td>\n",
       "      <td>2.0</td>\n",
       "      <td>no</td>\n",
       "      <td>0.0</td>\n",
       "      <td>0.0</td>\n",
       "      <td>Sometimes</td>\n",
       "      <td>Public_Transportation</td>\n",
       "      <td>Overweight_Level_II</td>\n",
       "    </tr>\n",
       "  </tbody>\n",
       "</table>\n",
       "</div>"
      ],
      "text/plain": [
       "    Age  Gender  Height  Weight        CALC FAVC  FCVC  NCP  SCC SMOKE  CH2O  \\\n",
       "0  21.0  Female    1.62    64.0          no   no   2.0  3.0   no    no   2.0   \n",
       "1  21.0  Female    1.52    56.0   Sometimes   no   3.0  3.0  yes   yes   3.0   \n",
       "2  23.0    Male    1.80    77.0  Frequently   no   2.0  3.0   no    no   2.0   \n",
       "3  27.0    Male    1.80    87.0  Frequently   no   3.0  3.0   no    no   2.0   \n",
       "4  22.0    Male    1.78    89.8   Sometimes   no   2.0  1.0   no    no   2.0   \n",
       "\n",
       "  family_history_with_overweight  FAF  TUE       CAEC                 MTRANS  \\\n",
       "0                            yes  0.0  1.0  Sometimes  Public_Transportation   \n",
       "1                            yes  3.0  0.0  Sometimes  Public_Transportation   \n",
       "2                            yes  2.0  1.0  Sometimes  Public_Transportation   \n",
       "3                             no  2.0  0.0  Sometimes                Walking   \n",
       "4                             no  0.0  0.0  Sometimes  Public_Transportation   \n",
       "\n",
       "            NObeyesdad  \n",
       "0        Normal_Weight  \n",
       "1        Normal_Weight  \n",
       "2        Normal_Weight  \n",
       "3   Overweight_Level_I  \n",
       "4  Overweight_Level_II  "
      ]
     },
     "execution_count": 4,
     "metadata": {},
     "output_type": "execute_result"
    }
   ],
   "source": [
    "df = pd.read_csv(csv_file_path) #can infer col names\n",
    "df.head()\n"
   ]
  },
  {
   "cell_type": "code",
   "execution_count": 5,
   "metadata": {},
   "outputs": [
    {
     "name": "stdout",
     "output_type": "stream",
     "text": [
      "<class 'pandas.core.frame.DataFrame'>\n",
      "RangeIndex: 2111 entries, 0 to 2110\n",
      "Data columns (total 17 columns):\n",
      " #   Column                          Non-Null Count  Dtype  \n",
      "---  ------                          --------------  -----  \n",
      " 0   Age                             2111 non-null   float64\n",
      " 1   Gender                          2111 non-null   object \n",
      " 2   Height                          2111 non-null   float64\n",
      " 3   Weight                          2111 non-null   float64\n",
      " 4   CALC                            2111 non-null   object \n",
      " 5   FAVC                            2111 non-null   object \n",
      " 6   FCVC                            2111 non-null   float64\n",
      " 7   NCP                             2111 non-null   float64\n",
      " 8   SCC                             2111 non-null   object \n",
      " 9   SMOKE                           2111 non-null   object \n",
      " 10  CH2O                            2111 non-null   float64\n",
      " 11  family_history_with_overweight  2111 non-null   object \n",
      " 12  FAF                             2111 non-null   float64\n",
      " 13  TUE                             2111 non-null   float64\n",
      " 14  CAEC                            2111 non-null   object \n",
      " 15  MTRANS                          2111 non-null   object \n",
      " 16  NObeyesdad                      2111 non-null   object \n",
      "dtypes: float64(8), object(9)\n",
      "memory usage: 280.5+ KB\n"
     ]
    }
   ],
   "source": [
    "df.info()"
   ]
  },
  {
   "cell_type": "code",
   "execution_count": 6,
   "metadata": {},
   "outputs": [
    {
     "name": "stdout",
     "output_type": "stream",
     "text": [
      "Num classes 2\n"
     ]
    }
   ],
   "source": [
    "num_classes = df['FAVC'].nunique()\n",
    "print(f'Num classes {num_classes}')"
   ]
  },
  {
   "cell_type": "code",
   "execution_count": 7,
   "metadata": {},
   "outputs": [
    {
     "name": "stdout",
     "output_type": "stream",
     "text": [
      "TUE\n",
      "0.000000    557\n",
      "1.000000    292\n",
      "2.000000    109\n",
      "0.630866      4\n",
      "1.119877      3\n",
      "           ... \n",
      "1.343044      1\n",
      "1.019452      1\n",
      "0.673408      1\n",
      "0.997600      1\n",
      "0.714137      1\n",
      "Name: count, Length: 1129, dtype: int64\n"
     ]
    }
   ],
   "source": [
    "drink = df['TUE'].value_counts()\n",
    "print(drink)"
   ]
  },
  {
   "cell_type": "code",
   "execution_count": 8,
   "metadata": {},
   "outputs": [
    {
     "name": "stdout",
     "output_type": "stream",
     "text": [
      "NObeyesdad\n",
      "Obesity_Type_I         351\n",
      "Obesity_Type_III       324\n",
      "Obesity_Type_II        297\n",
      "Overweight_Level_I     290\n",
      "Overweight_Level_II    290\n",
      "Normal_Weight          287\n",
      "Insufficient_Weight    272\n",
      "Name: count, dtype: int64\n"
     ]
    }
   ],
   "source": [
    "class_distrib = df['NObeyesdad'].value_counts()\n",
    "print(class_distrib)"
   ]
  },
  {
   "cell_type": "code",
   "execution_count": 9,
   "metadata": {},
   "outputs": [
    {
     "data": {
      "image/png": "[encoded data removed]",
      "text/plain": [
       "<Figure size 640x480 with 1 Axes>"
      ]
     },
     "metadata": {},
     "output_type": "display_data"
    }
   ],
   "source": [
    "from sklearn.preprocessing import LabelEncoder\n",
    "import matplotlib.pyplot as plt\n",
    "\n",
    "tmp = LabelEncoder()\n",
    "y= tmp.fit_transform(df['NObeyesdad'])\n",
    "class_labels = np.array(['Insufficient weight', 'Normal Weight', 'Obesity Type I', 'Obesity Type II', 'Obesity Type III', 'Overweight Level I', 'Overweight Level II'])\n",
    "counts = np.bincount(y)\n",
    "plt.pie(counts, labels = class_labels)\n",
    "plt.show()"
   ]
  },
  {
   "cell_type": "code",
   "execution_count": 10,
   "metadata": {},
   "outputs": [
    {
     "name": "stdout",
     "output_type": "stream",
     "text": [
      "['Insufficient_Weight' 'Normal_Weight' 'Obesity_Type_I' 'Obesity_Type_II'\n",
      " 'Obesity_Type_III' 'Overweight_Level_I' 'Overweight_Level_II']\n"
     ]
    }
   ],
   "source": [
    "print(tmp.classes_)"
   ]
  },
  {
   "cell_type": "code",
   "execution_count": 11,
   "metadata": {},
   "outputs": [],
   "source": [
    "from sklearn.model_selection import train_test_split\n",
    "from sklearn.preprocessing import StandardScaler\n",
    "X = df.drop('NObeyesdad', axis = 1)\n",
    "\n",
    "X_train, X_test, y_train, y_test = train_test_split(X, y, test_size=0.20, random_state=1)"
   ]
  },
  {
   "cell_type": "code",
   "execution_count": 12,
   "metadata": {},
   "outputs": [],
   "source": [
    "X_df = X.copy()"
   ]
  },
  {
   "cell_type": "markdown",
   "metadata": {},
   "source": [
    "One hot encode, scale "
   ]
  },
  {
   "cell_type": "code",
   "execution_count": 13,
   "metadata": {},
   "outputs": [
    {
     "name": "stdout",
     "output_type": "stream",
     "text": [
      "Number of columns in X: 16\n",
      "Continuous column indices: [0, 2, 3, 7, 10, 12]\n",
      "X_scale size (2111, 6)\n",
      "(2111, 1958)\n"
     ]
    }
   ],
   "source": [
    "from sklearn.preprocessing import OneHotEncoder\n",
    "#there are other numeric attributes, but they are discrete, not continuous \n",
    "#age, height, weight, NCP (num of meals per day), CH20 (how much water you drink daily), and FAF (how ofetn exercise) are the continuous numeric columns\n",
    "#there are other numeric attributes, but they are discrete, not continuous \n",
    "scaler = StandardScaler()\n",
    "cont_indices = [0, 2, 3, 7, 10, 12]\n",
    "categorical_index = [i for i in range(X.shape[1]) if i not in cont_indices]\n",
    "print(\"Number of columns in X:\", X.shape[1])  # Ensure the number of columns in X is as expected\n",
    "print(\"Continuous column indices:\", cont_indices)\n",
    "X_df = X.copy()\n",
    "X = X.to_numpy()\n",
    "X_scale = scaler.fit_transform(X[:, cont_indices])\n",
    "print(f'X_scale size {X_scale.shape}')\n",
    "encoder = OneHotEncoder(drop='first', sparse_output=False, handle_unknown=\"ignore\")\n",
    "X_encoded = encoder.fit_transform(X[:, categorical_index])\n",
    "X = np.hstack([X_scale, X_encoded])\n",
    "\n",
    "#split for validation\n",
    "X_train1, X_test1, y_train1, y_test1 = train_test_split(X, y, test_size=0.20, random_state=1)\n",
    "print(X.shape)\n"
   ]
  },
  {
   "cell_type": "markdown",
   "metadata": {},
   "source": [
    "At the end of preprocessing, the categorical variables are one hot encoded, the continuous variables are scaled, the target variable was integer encoded. This dataset is used for classification because the target variable is a categorical variable. The other attributes in the data set will be used to classify the tuple by one of the labels (classes of the target variable). These include 'Insufficient_Weight' 'Normal_Weight' 'Obesity_Type_I' 'Obesity_Type_II', 'Obesity_Type_III' 'Overweight_Level_I' 'Overweight_Level_II'.\n",
    "\n",
    "The business case for this classification task is discussed later in the document. \n",
    "\n",
    "UPDATE \n",
    "i later had to repreprocess the data to do column crossing and embedding instead of one hot encoding, but i will continue to use this version of the preprocessed data for the rest of the first section of the lab (like the validation accuracy/test accuracy curve). "
   ]
  },
  {
   "cell_type": "code",
   "execution_count": 14,
   "metadata": {},
   "outputs": [
    {
     "data": {
      "image/png": "[encoded data removed]",
      "text/plain": [
       "<Figure size 640x480 with 2 Axes>"
      ]
     },
     "metadata": {},
     "output_type": "display_data"
    }
   ],
   "source": [
    "import seaborn as sns\n",
    "import matplotlib.pyplot as plt\n",
    "contingency_table = pd.crosstab(df['CALC'], df['SMOKE'])\n",
    "sns.heatmap(contingency_table, annot=True, cmap=\"YlGnBu\")\n",
    "plt.xlabel('Do you smoke?')\n",
    "plt.ylabel('How often do you drink?')\n",
    "plt.title('Figure 1')\n",
    "plt.show()"
   ]
  },
  {
   "cell_type": "code",
   "execution_count": 15,
   "metadata": {},
   "outputs": [
    {
     "data": {
      "image/png": "[encoded data removed]",
      "text/plain": [
       "<Figure size 640x480 with 2 Axes>"
      ]
     },
     "metadata": {},
     "output_type": "display_data"
    }
   ],
   "source": [
    "import seaborn as sns\n",
    "import matplotlib.pyplot as plt\n",
    "contingency_table = pd.crosstab(df['FAVC'], df['SCC'])\n",
    "sns.heatmap(contingency_table, annot=True, cmap=\"YlGnBu\")\n",
    "plt.xlabel('Do you eat high cal food frequently?')\n",
    "plt.ylabel('Do you monitor your daily caloric intake?')\n",
    "plt.title('Figure 2')\n",
    "plt.show()"
   ]
  },
  {
   "cell_type": "code",
   "execution_count": 16,
   "metadata": {},
   "outputs": [
    {
     "data": {
      "image/png": "[encoded data removed]",
      "text/plain": [
       "<Figure size 640x480 with 2 Axes>"
      ]
     },
     "metadata": {},
     "output_type": "display_data"
    }
   ],
   "source": [
    "contingency_table = pd.crosstab(df['NObeyesdad'], df['FAVC'])\n",
    "sns.heatmap(contingency_table, annot=True, cmap=\"YlGnBu\")\n",
    "plt.xlabel('Do you eat high cal food frequently?')\n",
    "plt.ylabel('Weight Classification')\n",
    "plt.title('Figure 3')\n",
    "plt.show()"
   ]
  },
  {
   "cell_type": "markdown",
   "metadata": {},
   "source": [
    "https://developers.google.com/machine-learning/crash-course/categorical-data/feature-crosses\n",
    "\n",
    "Try not to cross two sparse features, this would create a new sparser feature than the original elements \n",
    "\n",
    "I would recommend crossing SMOKE (Binary, do you smoke?) and CALC (How often do you drink alcohol with answer options including no, sometimes, frequently, always). Each of these features has a small number of classes, which will make computations easy. They are also pretty correlated. As you can see by the heatmap above (Figure 1), If a person does not smoke, it is highly likely that they either dont drink, or that they only drink sometimes. This combination captures the interaction between lifestyle patterns (smoking and drinking) that could be valuable in predicting health characteristics, like if a person is obese.\n",
    "\n",
    "\n",
    "I would also recommend crossing FAVC (Binary question:Do you eat high caloric food frequently? ) and SCC (Binary question, do you monitor the calories you eat daily?). Each is a binary question, meaning they will each have a yes or no answer, which makes the crossed feature simple. They also have a correlation. As you can see above, if a person does not eat high calorie food frequently, it is likely that they also monitor their caloric intake. This captures the interaction between a person being conscious of their diet/caloric intake, the health consequences associated with a poor diet (like obesity). If a person is conscious about their health in a way that causes them to not eat high calorie foods, it is likely that they are conscious of/monitor their daily calorie intake. These two factors logically influence eachother, so it makes sense to combine them. \n",
    "\n",
    "\n",
    "If a person eats high caloric food frequently (FAVC) and has a family history of obesity (family_history_with_overweight), it greatly influences the odds that the person is obese, which is the classification task at hand. This is why it may be beneficial to combine family_history_with_overweight and FAVC. In Figure 2, you can also see a correlation between the variables. If a person has a family history of obesity, it is more likely that they eat high calorie food frequently. People often adpot the lifestyle habits that they observed growing up. If a person's family eats high calorie food freuqently while they are a child, it is likely that they will have similar dietary habits in adulthood, and possibly similar health outcomes(Figure 3). \n",
    "\n"
   ]
  },
  {
   "cell_type": "markdown",
   "metadata": {},
   "source": [
    "This model classifies a person by their obesity level based on attributes like gender, age, their lifestyle choices (if they drink/smoke or are sedintary), their diet, etc. In a business scenario, this model could be used by doctors offices (general practitioners/weight loss specialists, or even online weight loss programs like Weight Watchers) to predict if a person is at risk for being obese based on their attributes, and recommend lifestyle changes accordingly.\n",
    "\n",
    " Obesity can lead to serious health conseuqences, like heart disease, cancer, and type 2 diabetes, all of which can be fatal. If a person has attributes that classify them as obese and the model fails to catch it, it could prevent a person from getting the intervention that they need to preserve their health. However, if the model misclassifies a person as obese when they are not, the recommended lifestyle changes wouldn't have a negative impact on the person.\n",
    " \n",
    "  That being said false negatives have more serious implications than false positives. Because of this, we should use the recall metric. The recall metric measures the number of false negatives (the higher the recall, the lower the number of false neg), so we can be sure that our model is performing properly for the business application that we have in mind. \n"
   ]
  },
  {
   "cell_type": "markdown",
   "metadata": {},
   "source": [
    "#https://stackoverflow.com/questions/34731421/whats-the-difference-between-kfold-and-shufflesplit-cv#:~:text=KFold%20will%20divide%20your%20data,set%20and%20a%20test%20set.\n",
    "use stratified for unbalanced\n",
    "\n",
    "\n",
    "Based on the graph above the the figures above, we see that the data is realatively balanced. there is a relatively equal number of each class of the target variable in the data set. Even still, I will use stratified K-Fold to split the data. This will ensure that the folds maintain the original distribution of classes in the data to make sure that all of the classes are represented correctly.\n",
    "\n",
    "The difference between kfold and shufflesplit is that kfold divides the data into a specific number of folds (each of which is a subset of the dataset) and shufflesplit randomly takes samples from your whole dataset to make a train and test set at each iteration. With shufflesplit, the test sets can overlap, where in kfold, they cant. To prevent overlap and any bias, I will use the kfold method. This also ensures that each data point will be used for testing (which is especially important because the dataset is small), whereas in shufflesplit, it is possible that a datapoint will not be used for testing at all. The dataset is also on the smaller side with 2111 samples, so kfold won't be too computationally expensive and can be used. \n",
    "\n",
    "\n",
    "Stratified kfold is an appropriate mirroring how the model would be used in a real world situation becuase it preserves the class distribution of the target variable. If this model was used in a medical office, the input data would be representative of the community that attends the office. The preservation of the class distribution with stratified kfold ensures that we are testing and training the model on data that mirrors the distributions of real world data, helping to simulate this scenario. If the classes were imbalanced due to random splits, it could lead to the model being biased. Regular kfold could also lead to a class imbalance problem that would skew the results"
   ]
  },
  {
   "cell_type": "code",
   "execution_count": 17,
   "metadata": {},
   "outputs": [
    {
     "name": "stdout",
     "output_type": "stream",
     "text": [
      "Fold: 1, Acc: 0.858\n",
      "Fold: 2, Acc: 0.876\n",
      "Fold: 3, Acc: 0.899\n",
      "Fold: 4, Acc: 0.852\n",
      "Fold: 5, Acc: 0.870\n",
      "Fold: 6, Acc: 0.852\n",
      "Fold: 7, Acc: 0.876\n",
      "Fold: 8, Acc: 0.870\n",
      "Fold: 9, Acc: 0.869\n",
      "Fold: 10, Acc: 0.863\n",
      "\n",
      "CV accuracy: 0.868 +/- 0.013\n"
     ]
    }
   ],
   "source": [
    "#have to split the data into testing and training before one hot encoding, normalizing, dimensionality reduction etc to prevent dats snooping\n",
    "from sklearn.model_selection import StratifiedKFold, cross_val_score\n",
    "from sklearn.ensemble import RandomForestClassifier\n",
    "from sklearn.metrics import accuracy_score\n",
    "from sklearn.metrics import classification_report\n",
    "from sklearn.decomposition import PCA\n",
    "from sklearn.linear_model import LogisticRegression\n",
    "from sklearn.pipeline import Pipeline\n",
    "from sklearn.metrics import accuracy_score\n",
    "\n",
    "# Initialize stratified k-fold\n",
    "\n",
    "pipe_rf = Pipeline([\n",
    "                    ('pca', PCA(n_components=30,random_state=1)),\n",
    "                    ('clf', RandomForestClassifier( random_state=1))])\n",
    "# List to hold accuracy scores\n",
    "\n",
    "kfold_for_validation = StratifiedKFold(n_splits=10).split(X_train1, y_train1)\n",
    "\n",
    "scores = []\n",
    "for k, (train, test) in enumerate(kfold_for_validation):\n",
    "    pipe_rf.fit(X_train1[train], y_train1[train])\n",
    "    score = pipe_rf.score(X_train1[test], y_train1[test])\n",
    "    scores.append(score)\n",
    "    print('Fold: %s, Acc: %.3f' % (k+1, score))\n",
    "    \n",
    "print('\\nCV accuracy: %.3f +/- %.3f' % (np.mean(scores), np.std(scores)))"
   ]
  },
  {
   "cell_type": "code",
   "execution_count": 18,
   "metadata": {},
   "outputs": [
    {
     "name": "stdout",
     "output_type": "stream",
     "text": [
      "CV accuracy scores: [0.85798817 0.87573964 0.89940828 0.85207101 0.86982249 0.85207101\n",
      " 0.87573964 0.86982249 0.86904762 0.86309524]\n",
      "CV accuracy: 0.868 +/- 0.013\n"
     ]
    }
   ],
   "source": [
    "from sklearn.model_selection import cross_val_score\n",
    "\n",
    "scores = cross_val_score(estimator=pipe_rf,\n",
    "                         X=X_train1,\n",
    "                         y=y_train1,\n",
    "                         cv=10,\n",
    "                         n_jobs=-1)\n",
    "print('CV accuracy scores: %s' % scores)\n",
    "print('CV accuracy: %.3f +/- %.3f' % (np.mean(scores), np.std(scores)))"
   ]
  },
  {
   "cell_type": "code",
   "execution_count": 19,
   "metadata": {},
   "outputs": [],
   "source": [
    "def plot_filled(train_scores,test_scores,train_x_axis, xlabel=''):\n",
    "    train_mean = np.mean(train_scores, axis=1)\n",
    "    train_std = np.std(train_scores, axis=1)\n",
    "    test_mean = np.mean(test_scores, axis=1)\n",
    "    test_std = np.std(test_scores, axis=1)\n",
    "\n",
    "    plt.plot(train_x_axis, train_mean,\n",
    "             color='blue', marker='o',\n",
    "             markersize=5, label='training accuracy')\n",
    "\n",
    "    plt.fill_between(train_x_axis,\n",
    "                     train_mean + train_std,\n",
    "                     train_mean - train_std,\n",
    "                     alpha=0.15, color='blue')\n",
    "\n",
    "    plt.plot(train_x_axis, test_mean,\n",
    "             color='green', linestyle='--',\n",
    "             marker='s', markersize=5,\n",
    "             label='validation accuracy')\n",
    "\n",
    "    plt.fill_between(train_x_axis,\n",
    "                     test_mean + test_std,\n",
    "                     test_mean - test_std,\n",
    "                     alpha=0.15, color='green')\n",
    "\n",
    "    plt.grid()\n",
    "    plt.xlabel(xlabel)\n",
    "    plt.ylabel('Accuracy')\n",
    "    plt.legend(loc='lower right')\n",
    "    plt.tight_layout()"
   ]
  },
  {
   "cell_type": "code",
   "execution_count": 20,
   "metadata": {},
   "outputs": [],
   "source": [
    "import matplotlib.pyplot as plt\n",
    "%matplotlib inline \n",
    "\n",
    "from sklearn.model_selection import learning_curve\n",
    "\n",
    "train_sizes, train_scores, test_scores =learning_curve(estimator=pipe_rf,\n",
    "                                                       X=X_train1,\n",
    "                                                       y=y_train1,\n",
    "                                                       train_sizes=np.linspace(0.1, 1.0, 10),\n",
    "                                                       cv=5,\n",
    "                                                       n_jobs=-1)"
   ]
  },
  {
   "cell_type": "code",
   "execution_count": 21,
   "metadata": {},
   "outputs": [
    {
     "data": {
      "image/png": "[encoded data removed]",
      "text/plain": [
       "<Figure size 640x480 with 1 Axes>"
      ]
     },
     "metadata": {},
     "output_type": "display_data"
    }
   ],
   "source": [
    "plot_filled(train_scores, test_scores, train_sizes, xlabel='Number of training samples')"
   ]
  },
  {
   "cell_type": "markdown",
   "metadata": {},
   "source": [
    "Shows that it is overlearned"
   ]
  },
  {
   "cell_type": "code",
   "execution_count": 22,
   "metadata": {},
   "outputs": [],
   "source": [
    "from sklearn.model_selection import validation_curve\n",
    "\n",
    "\n",
    "param_name = 'clf__max_depth'\n",
    "param_range = [5, 10, 15, 20]\n",
    "train_scores, test_scores = validation_curve(\n",
    "                estimator=pipe_rf, \n",
    "                X=X_train1, \n",
    "                y=y_train1, \n",
    "                param_name=param_name,\n",
    "                param_range=param_range,\n",
    "                cv=5,n_jobs=-1)"
   ]
  },
  {
   "cell_type": "code",
   "execution_count": 23,
   "metadata": {},
   "outputs": [
    {
     "data": {
      "image/png": "[encoded data removed]",
      "text/plain": [
       "<Figure size 640x480 with 1 Axes>"
      ]
     },
     "metadata": {},
     "output_type": "display_data"
    }
   ],
   "source": [
    "plot_filled(train_scores, test_scores, param_range, xlabel='Parameter Sweep')\n",
    "plt.xscale('log')\n",
    "plt.show()"
   ]
  },
  {
   "cell_type": "markdown",
   "metadata": {},
   "source": [
    "Additional analysis stuff:\n",
    "\n",
    "\n",
    "The blue line represents the mean training accuracy across the cross validation for each of the values of max depth (the max depth of each tree). There is supposed to be a blue shading around it that represents 1 standard deviation from the mean. The high/stable training accuracy across folds that we see with the horizonal line at 1 indicates that the model fits the training data well.\n",
    "\n",
    "The green line represents the mean validation accuracy across all folds for each max depth param. The shaded area shows the variability in the validation accuracy. The green line is lower than the blue line, which may indicate overfitting. As far as parameter, I will choose 15, since that is where validation accuracy seems stable\n",
    "\n",
    "The overfitting we see in this model relates to the analysis that we will do on our different wide and deep models below. We analysize the validation and training loss of those models on models with different depths, and look at the graph for signs of overfitting, like we see here. "
   ]
  },
  {
   "cell_type": "markdown",
   "metadata": {},
   "source": []
  },
  {
   "cell_type": "markdown",
   "metadata": {},
   "source": [
    "MODELING"
   ]
  },
  {
   "cell_type": "code",
   "execution_count": 24,
   "metadata": {},
   "outputs": [
    {
     "name": "stdout",
     "output_type": "stream",
     "text": [
      "2.18.0\n",
      "3.6.0\n",
      "3.12.6 (v3.12.6:a4a2d2b0d85, Sep  6 2024, 16:08:03) [Clang 13.0.0 (clang-1300.0.29.30)]\n"
     ]
    }
   ],
   "source": [
    "import os\n",
    "os.environ['KMP_DUPLICATE_LIB_OK']='True'\n",
    "\n",
    "from sklearn import metrics as mt\n",
    "#using venv, caused error with distutils, so added this line\n",
    "import setuptools.dist\n",
    "import tensorflow as tf\n",
    "from tensorflow import keras\n",
    "import sys\n",
    "\n",
    "print(tf.__version__)\n",
    "print(keras.__version__)\n",
    "print(sys.version)"
   ]
  },
  {
   "cell_type": "code",
   "execution_count": 25,
   "metadata": {},
   "outputs": [],
   "source": [
    "from tensorflow.keras.layers import Dense, Activation, Input\n",
    "from tensorflow.keras.layers import Embedding, Concatenate, Flatten\n",
    "from tensorflow.keras.models import Model\n",
    "from tensorflow.keras.utils import plot_model\n",
    "from tensorflow.keras import layers"
   ]
  },
  {
   "cell_type": "code",
   "execution_count": 26,
   "metadata": {},
   "outputs": [
    {
     "name": "stdout",
     "output_type": "stream",
     "text": [
      "(2111, 1958)\n",
      "(2111,)\n"
     ]
    }
   ],
   "source": [
    "print(X.shape)\n",
    "print(y.shape)\n",
    "# print(y)\n"
   ]
  },
  {
   "cell_type": "markdown",
   "metadata": {},
   "source": [
    "Model Deep and Wide 1\n",
    "    This model has 3 deep layers and one wide layer"
   ]
  },
  {
   "cell_type": "markdown",
   "metadata": {},
   "source": [
    "Here i redo the preprocessing to do the categorical variable crossing and embedding.\n",
    "\n",
    " I decided to cross FAVC (Do you eat high caloric food frequently) and SCC (do you monitor your calroies daily) and CALC (how often do you drink alcohol) and SMOKE (do you smoke) because i believe that these variables have the highest correlation with eachother. The combination of drinking and smoking provides insight into the lifestyle habits that a person has, especially ones that can negatively impact one's health. This relationship can play a key factor in predicting a person's weight category, by showing how they prioritize their health. FAVC and SCC also have a very prominent relationship with eachother (as discussed above) and provide valuable information about a person's diet, which is a known valuable predictor for weight. \n",
    "\n",
    "I choose not to cross FAVC and family history of obesity because i believe that family history of obesity is a strong predictor of obesity on its own, and I think that crossing FAVC and SCC captures a more significant pattern in relation to the classification task. It is possible to cross all three of these variables, but choosing not to cross all three prevents creating overly sparse features and simplifies the training of the model. "
   ]
  },
  {
   "cell_type": "code",
   "execution_count": 27,
   "metadata": {},
   "outputs": [
    {
     "name": "stdout",
     "output_type": "stream",
     "text": [
      "Columns in X_df: ['Age', 'Gender', 'Height', 'Weight', 'CALC', 'FAVC', 'FCVC', 'NCP', 'SCC', 'SMOKE', 'CH2O', 'family_history_with_overweight', 'FAF', 'TUE', 'CAEC', 'MTRANS']\n",
      "final shape (2111, 14)\n"
     ]
    }
   ],
   "source": [
    "cross_columns = [\n",
    "                 ['FAVC','SCC'],\n",
    "                 ['CALC','SMOKE']\n",
    "]\n",
    "continuous_columns = ['Age', 'Height', 'Weight', 'NCP', 'CH2O', 'FAF']\n",
    "cross_col_df_names = []\n",
    "crossed_features = []\n",
    "\n",
    "#these variables store the indices of each category in the final X numpy array so that i can access them later\n",
    "crossed_feature_indices = []  \n",
    "categorical_feature_indices = []  \n",
    "numeric_feature_indices = []  \n",
    "\n",
    "\n",
    "all_columns = X_df.columns.tolist()\n",
    "crossed_flattened = [col for pair in cross_columns for col in pair]  # Flatten cross_columns\n",
    "other_categorical_cols = [col for col in all_columns if col not in crossed_flattened + continuous_columns] #names of categorical columns that arent crossed\n",
    "\n",
    "for cols_list in cross_columns:\n",
    "    # encode as ints for the embedding\n",
    "    enc = LabelEncoder()\n",
    "    X_crossed = X_df[cols_list].apply(lambda x: '_'.join(x.astype(str)), axis=1)\n",
    "\n",
    "    #get a name for the crossed column\n",
    "    cross_col_name = '_'.join(cols_list)\n",
    "    enc = LabelEncoder()\n",
    "    X_crossed_encoded = enc.fit_transform(X_crossed).reshape(-1, 1)  #reshape to make sure it's 2D\n",
    "\n",
    "    #keep track of the crossed features and the names of the resulting columns \n",
    "    crossed_features.append(X_crossed_encoded)\n",
    "    cross_col_df_names.append(cross_col_name)\n",
    "\n",
    "    #find the indices for the crossed feature indices \n",
    "    start_idx = len(numeric_feature_indices) + sum(len(f) for f in crossed_features[:-1])\n",
    "    end_idx = start_idx + X_crossed_encoded.shape[1] - 1\n",
    "    crossed_feature_indices.append((start_idx, end_idx))\n",
    "#stack all od the crossed features together\n",
    "crossed_features = np.hstack(crossed_features)\n",
    "\n",
    "#encode the categorical fetaures that are not crossed as ints, they will later be imbeded \n",
    "encoded_categorical_features = []\n",
    "for col in other_categorical_cols:\n",
    "    enc = LabelEncoder()\n",
    "    X_encoded = enc.fit_transform(X_df[col]).reshape(-1, 1)  \n",
    "    encoded_categorical_features.append(X_encoded)\n",
    "    idx = len(numeric_feature_indices) + crossed_features.shape[1] + len(encoded_categorical_features) - 1\n",
    "    categorical_feature_indices.append(idx)\n",
    "\n",
    "encoded_categorical_features = np.hstack(encoded_categorical_features)\n",
    "\n",
    "#scale the continuous numeric features\n",
    "scaler = StandardScaler()\n",
    "print(\"Columns in X_df:\", X_df.columns.tolist())\n",
    "X_scale = scaler.fit_transform(X_df[continuous_columns])\n",
    "numeric_feature_indices = list(range(X_scale.shape[1]))\n",
    "\n",
    "#combine the crossed features, the not crossed categorical features, and the scaled cont numeric features\n",
    "X = np.hstack([X_scale, crossed_features, encoded_categorical_features])\n",
    "\n",
    "print(f'final shape {X.shape}')\n",
    "\n",
    "\n"
   ]
  },
  {
   "cell_type": "code",
   "execution_count": 28,
   "metadata": {},
   "outputs": [],
   "source": [
    "from keras.optimizers import Adam\n",
    "from keras.callbacks import EarlyStopping\n",
    "\n",
    "\n",
    "\n",
    "def create_wide_deep_model1(numeric_dim, crossed_dim, categorical_dim):\n",
    "    # Inputs\n",
    "    numeric_input = Input(shape=(numeric_dim,))\n",
    "    crossed_input = Input(shape=(crossed_dim,))\n",
    "    categorical_input = Input(shape=(categorical_dim,))\n",
    "\n",
    "    # Wide part (combine numeric and crossed inputs)\n",
    "    wide_input = layers.concatenate([numeric_input, crossed_input])\n",
    "    wide_layer = Dense(32, activation='linear')(wide_input)\n",
    "\n",
    "    # Deep part, input the categorical inputs\n",
    "    deep_layer = Dense(128, activation='relu')(categorical_input)\n",
    "    deep_layer = Dense(64, activation='relu')(deep_layer)\n",
    "    deep_layer = Dense(32, activation='relu')(deep_layer)\n",
    "\n",
    "    # Combine the wide and deep parts\n",
    "    combined = layers.add([wide_layer, deep_layer])\n",
    "\n",
    "    # Output layer\n",
    "    output_layer = Dense(7, activation='softmax')(combined)\n",
    "\n",
    "    # Create and compile the model\n",
    "    model = Model(inputs=[numeric_input, crossed_input, categorical_input], outputs=output_layer)\n",
    "    model.compile(optimizer=Adam(), loss='sparse_categorical_crossentropy', metrics=['accuracy'])\n",
    "\n",
    "    return model\n"
   ]
  },
  {
   "cell_type": "code",
   "execution_count": 29,
   "metadata": {},
   "outputs": [
    {
     "name": "stderr",
     "output_type": "stream",
     "text": [
      "/Users/elichesnut/Documents/GitHub/MLLab5-2/.venv/lib/python3.12/site-packages/keras/src/models/functional.py:225: UserWarning: The structure of `inputs` doesn't match the expected structure: ['keras_tensor', 'keras_tensor_1', 'keras_tensor_2']. Received: the structure of inputs=('*', '*', '*')\n",
      "  warnings.warn(\n"
     ]
    },
    {
     "name": "stdout",
     "output_type": "stream",
     "text": [
      "\u001b[1m7/7\u001b[0m \u001b[32m━━━━━━━━━━━━━━━━━━━━\u001b[0m\u001b[37m\u001b[0m \u001b[1m0s\u001b[0m 3ms/step  \n",
      "Fold 0 - Validation Loss: 0.3737, Accuracy: 0.8538, Recall: 0.8513\n"
     ]
    },
    {
     "name": "stderr",
     "output_type": "stream",
     "text": [
      "/Users/elichesnut/Documents/GitHub/MLLab5-2/.venv/lib/python3.12/site-packages/keras/src/models/functional.py:225: UserWarning: The structure of `inputs` doesn't match the expected structure: ['keras_tensor_10', 'keras_tensor_11', 'keras_tensor_12']. Received: the structure of inputs=('*', '*', '*')\n",
      "  warnings.warn(\n"
     ]
    },
    {
     "name": "stdout",
     "output_type": "stream",
     "text": [
      "\u001b[1m7/7\u001b[0m \u001b[32m━━━━━━━━━━━━━━━━━━━━\u001b[0m\u001b[37m\u001b[0m \u001b[1m0s\u001b[0m 3ms/step \n",
      "Fold 1 - Validation Loss: 0.4518, Accuracy: 0.8436, Recall: 0.8380\n"
     ]
    },
    {
     "name": "stderr",
     "output_type": "stream",
     "text": [
      "/Users/elichesnut/Documents/GitHub/MLLab5-2/.venv/lib/python3.12/site-packages/keras/src/models/functional.py:225: UserWarning: The structure of `inputs` doesn't match the expected structure: ['keras_tensor_20', 'keras_tensor_21', 'keras_tensor_22']. Received: the structure of inputs=('*', '*', '*')\n",
      "  warnings.warn(\n"
     ]
    },
    {
     "name": "stdout",
     "output_type": "stream",
     "text": [
      "WARNING:tensorflow:5 out of the last 15 calls to <function TensorFlowTrainer.make_predict_function.<locals>.one_step_on_data_distributed at 0x304807a60> triggered tf.function retracing. Tracing is expensive and the excessive number of tracings could be due to (1) creating @tf.function repeatedly in a loop, (2) passing tensors with different shapes, (3) passing Python objects instead of tensors. For (1), please define your @tf.function outside of the loop. For (2), @tf.function has reduce_retracing=True option that can avoid unnecessary retracing. For (3), please refer to https://www.tensorflow.org/guide/function#controlling_retracing and https://www.tensorflow.org/api_docs/python/tf/function for  more details.\n",
      "\u001b[1m7/7\u001b[0m \u001b[32m━━━━━━━━━━━━━━━━━━━━\u001b[0m\u001b[37m\u001b[0m \u001b[1m0s\u001b[0m 4ms/step \n",
      "Fold 2 - Validation Loss: 0.2005, Accuracy: 0.9526, Recall: 0.9507\n"
     ]
    },
    {
     "name": "stderr",
     "output_type": "stream",
     "text": [
      "/Users/elichesnut/Documents/GitHub/MLLab5-2/.venv/lib/python3.12/site-packages/keras/src/models/functional.py:225: UserWarning: The structure of `inputs` doesn't match the expected structure: ['keras_tensor_30', 'keras_tensor_31', 'keras_tensor_32']. Received: the structure of inputs=('*', '*', '*')\n",
      "  warnings.warn(\n"
     ]
    },
    {
     "name": "stdout",
     "output_type": "stream",
     "text": [
      "WARNING:tensorflow:5 out of the last 15 calls to <function TensorFlowTrainer.make_predict_function.<locals>.one_step_on_data_distributed at 0x305e90ea0> triggered tf.function retracing. Tracing is expensive and the excessive number of tracings could be due to (1) creating @tf.function repeatedly in a loop, (2) passing tensors with different shapes, (3) passing Python objects instead of tensors. For (1), please define your @tf.function outside of the loop. For (2), @tf.function has reduce_retracing=True option that can avoid unnecessary retracing. For (3), please refer to https://www.tensorflow.org/guide/function#controlling_retracing and https://www.tensorflow.org/api_docs/python/tf/function for  more details.\n",
      "\u001b[1m7/7\u001b[0m \u001b[32m━━━━━━━━━━━━━━━━━━━━\u001b[0m\u001b[37m\u001b[0m \u001b[1m0s\u001b[0m 3ms/step \n",
      "Fold 3 - Validation Loss: 0.1913, Accuracy: 0.9431, Recall: 0.9426\n"
     ]
    },
    {
     "name": "stderr",
     "output_type": "stream",
     "text": [
      "/Users/elichesnut/Documents/GitHub/MLLab5-2/.venv/lib/python3.12/site-packages/keras/src/models/functional.py:225: UserWarning: The structure of `inputs` doesn't match the expected structure: ['keras_tensor_40', 'keras_tensor_41', 'keras_tensor_42']. Received: the structure of inputs=('*', '*', '*')\n",
      "  warnings.warn(\n"
     ]
    },
    {
     "name": "stdout",
     "output_type": "stream",
     "text": [
      "\u001b[1m7/7\u001b[0m \u001b[32m━━━━━━━━━━━━━━━━━━━━\u001b[0m\u001b[37m\u001b[0m \u001b[1m0s\u001b[0m 3ms/step \n",
      "Fold 4 - Validation Loss: 0.2143, Accuracy: 0.9431, Recall: 0.9434\n"
     ]
    },
    {
     "name": "stderr",
     "output_type": "stream",
     "text": [
      "/Users/elichesnut/Documents/GitHub/MLLab5-2/.venv/lib/python3.12/site-packages/keras/src/models/functional.py:225: UserWarning: The structure of `inputs` doesn't match the expected structure: ['keras_tensor_50', 'keras_tensor_51', 'keras_tensor_52']. Received: the structure of inputs=('*', '*', '*')\n",
      "  warnings.warn(\n"
     ]
    },
    {
     "name": "stdout",
     "output_type": "stream",
     "text": [
      "\u001b[1m7/7\u001b[0m \u001b[32m━━━━━━━━━━━━━━━━━━━━\u001b[0m\u001b[37m\u001b[0m \u001b[1m0s\u001b[0m 3ms/step  \n",
      "Fold 5 - Validation Loss: 0.1870, Accuracy: 0.9526, Recall: 0.9516\n"
     ]
    },
    {
     "name": "stderr",
     "output_type": "stream",
     "text": [
      "/Users/elichesnut/Documents/GitHub/MLLab5-2/.venv/lib/python3.12/site-packages/keras/src/models/functional.py:225: UserWarning: The structure of `inputs` doesn't match the expected structure: ['keras_tensor_60', 'keras_tensor_61', 'keras_tensor_62']. Received: the structure of inputs=('*', '*', '*')\n",
      "  warnings.warn(\n"
     ]
    },
    {
     "name": "stdout",
     "output_type": "stream",
     "text": [
      "\u001b[1m7/7\u001b[0m \u001b[32m━━━━━━━━━━━━━━━━━━━━\u001b[0m\u001b[37m\u001b[0m \u001b[1m0s\u001b[0m 3ms/step \n",
      "Fold 6 - Validation Loss: 0.2363, Accuracy: 0.9431, Recall: 0.9409\n"
     ]
    },
    {
     "name": "stderr",
     "output_type": "stream",
     "text": [
      "/Users/elichesnut/Documents/GitHub/MLLab5-2/.venv/lib/python3.12/site-packages/keras/src/models/functional.py:225: UserWarning: The structure of `inputs` doesn't match the expected structure: ['keras_tensor_70', 'keras_tensor_71', 'keras_tensor_72']. Received: the structure of inputs=('*', '*', '*')\n",
      "  warnings.warn(\n"
     ]
    },
    {
     "name": "stdout",
     "output_type": "stream",
     "text": [
      "\u001b[1m7/7\u001b[0m \u001b[32m━━━━━━━━━━━━━━━━━━━━\u001b[0m\u001b[37m\u001b[0m \u001b[1m0s\u001b[0m 3ms/step \n",
      "Fold 7 - Validation Loss: 0.1571, Accuracy: 0.9526, Recall: 0.9499\n"
     ]
    },
    {
     "name": "stderr",
     "output_type": "stream",
     "text": [
      "/Users/elichesnut/Documents/GitHub/MLLab5-2/.venv/lib/python3.12/site-packages/keras/src/models/functional.py:225: UserWarning: The structure of `inputs` doesn't match the expected structure: ['keras_tensor_80', 'keras_tensor_81', 'keras_tensor_82']. Received: the structure of inputs=('*', '*', '*')\n",
      "  warnings.warn(\n"
     ]
    },
    {
     "name": "stdout",
     "output_type": "stream",
     "text": [
      "\u001b[1m7/7\u001b[0m \u001b[32m━━━━━━━━━━━━━━━━━━━━\u001b[0m\u001b[37m\u001b[0m \u001b[1m0s\u001b[0m 5ms/step \n",
      "Fold 8 - Validation Loss: 0.1658, Accuracy: 0.9526, Recall: 0.9515\n"
     ]
    },
    {
     "name": "stderr",
     "output_type": "stream",
     "text": [
      "/Users/elichesnut/Documents/GitHub/MLLab5-2/.venv/lib/python3.12/site-packages/keras/src/models/functional.py:225: UserWarning: The structure of `inputs` doesn't match the expected structure: ['keras_tensor_90', 'keras_tensor_91', 'keras_tensor_92']. Received: the structure of inputs=('*', '*', '*')\n",
      "  warnings.warn(\n"
     ]
    },
    {
     "name": "stdout",
     "output_type": "stream",
     "text": [
      "\u001b[1m7/7\u001b[0m \u001b[32m━━━━━━━━━━━━━━━━━━━━\u001b[0m\u001b[37m\u001b[0m \u001b[1m0s\u001b[0m 3ms/step  \n",
      "Fold 9 - Validation Loss: 0.1608, Accuracy: 0.9526, Recall: 0.9512\n",
      "Average Validation Loss: 0.2339, Average Validation Accuracy: 0.9290\n",
      "Average Recall Score:  0.9271185109362449\n"
     ]
    }
   ],
   "source": [
    "from sklearn.metrics import recall_score\n",
    "from sklearn.metrics import roc_auc_score\n",
    "# Define Stratified KFold with 10 splits\n",
    "kfold_for_validation = StratifiedKFold(n_splits=10)\n",
    "\n",
    "#lists to store metrics for the model \n",
    "auc_scores_model1 = []\n",
    "val_losses = []\n",
    "val_accuracies = []\n",
    "rec_scores1 = []\n",
    "# List to store the history at each\n",
    "histories = []\n",
    "\n",
    "# K-Fold Cross-Validation\n",
    "for k, (train_idx, val_idx) in enumerate(kfold_for_validation.split(X,y)):\n",
    "    X_train_fold, X_val_fold = X[train_idx], X[val_idx]\n",
    "    y_train_fold, y_val_fold = y[train_idx], y[val_idx]\n",
    "\n",
    "#get scaled numeric X_train_fold \n",
    "    X_train_numeric = X_train_fold[:, numeric_feature_indices]\n",
    "    X_train_crossed = np.hstack([\n",
    "        X_train_fold[:, start:end+1] for start, end in crossed_feature_indices\n",
    "    ])\n",
    "    #gets categorical columns for x_train fold\n",
    "    X_train_categorical = X_train_fold[:, categorical_feature_indices]\n",
    "\n",
    "    #get numeric values for the validation set \n",
    "    X_val_numeric = X_val_fold[:, numeric_feature_indices]\n",
    "    X_val_crossed = np.hstack([\n",
    "        X_val_fold[:, start:end+1] for start, end in crossed_feature_indices\n",
    "    ])\n",
    "    #get categorical values for the validation set for the fold \n",
    "    X_val_categorical = X_val_fold[:, categorical_feature_indices]\n",
    "\n",
    "    \n",
    "    # Create a new Keras model for each fold \n",
    "    #we need the dimensions of every set of the data (like th numeric and categorical, and crossed)\n",
    "    model_1 = create_wide_deep_model1(numeric_dim=X_train_numeric.shape[1],\n",
    "        crossed_dim=X_train_crossed.shape[1],\n",
    "        categorical_dim=X_train_categorical.shape[1])\n",
    "    \n",
    "    # Use EarlyStopping to avoid overfitting\n",
    "    early_stopping = EarlyStopping(monitor='val_loss', patience=3, restore_best_weights=True)\n",
    "    \n",
    "    # Train the model on the current fold\n",
    "    history = model_1.fit([X_train_numeric, X_train_crossed, X_train_categorical],\n",
    "        y_train_fold,\n",
    "        validation_data=(\n",
    "            [X_val_numeric, X_val_crossed, X_val_categorical],\n",
    "            y_val_fold\n",
    "        ),\n",
    "              epochs=50, \n",
    "              batch_size=32, \n",
    "              callbacks=[early_stopping], \n",
    "              verbose=0)\n",
    "    histories.append(history)\n",
    "\n",
    "\n",
    "    y_pred_probs = model_1.predict([X_val_numeric, X_val_crossed, X_val_categorical])\n",
    "    y_pred = np.argmax(y_pred_probs, axis=1)\n",
    "\n",
    "    #save the roc auc score for each fold for later\n",
    "    auc_fold_model1 = roc_auc_score(y_val_fold, y_pred_probs, multi_class='ovr', average='macro')\n",
    "    auc_scores_model1.append(auc_fold_model1)\n",
    "\n",
    "    #calculate recall at each fold to evaluate performance \n",
    "    recall = recall_score(y_val_fold, y_pred, average='macro')\n",
    "    rec_scores1.append(recall)\n",
    "\n",
    "    #find loss and accuract of the validation data\n",
    "    val_loss, val_accuracy = model_1.evaluate(\n",
    "        [X_val_numeric, X_val_crossed, X_val_categorical],\n",
    "        y_val_fold,\n",
    "        verbose=0\n",
    "    )\n",
    "    val_losses.append(val_loss)\n",
    "    val_accuracies.append(val_accuracy)\n",
    "\n",
    "    print(f\"Fold {k} - Validation Loss: {val_loss:.4f}, Accuracy: {val_accuracy:.4f}, Recall: {recall:.4f}\")\n",
    "\n",
    "# Calculate average performance metrics across all folds\n",
    "avg_rec = np.mean(rec_scores1)\n",
    "avg_val_loss = np.mean(val_losses)\n",
    "avg_val_accuracy = np.mean(val_accuracies)\n",
    "print(f\"Average Validation Loss: {avg_val_loss:.4f}, Average Validation Accuracy: {avg_val_accuracy:.4f}\")\n",
    "print(\"Average Recall Score: \", avg_rec)\n"
   ]
  },
  {
   "cell_type": "markdown",
   "metadata": {},
   "source": [
    "Plot originial model"
   ]
  },
  {
   "cell_type": "code",
   "execution_count": 30,
   "metadata": {},
   "outputs": [
    {
     "data": {
      "image/png": "[encoded data removed]",
      "text/plain": [
       "<Figure size 640x480 with 1 Axes>"
      ]
     },
     "metadata": {},
     "output_type": "display_data"
    }
   ],
   "source": [
    "import matplotlib.pyplot as plt\n",
    "from sklearn.metrics import roc_curve\n",
    "from matplotlib import pyplot as plt\n",
    "\n",
    "plt.plot(history.history['loss'],label='training ')\n",
    "plt.plot(history.history['val_loss'],label='validation')\n",
    "plt.title('Loss over epochs')\n",
    "plt.legend()\n",
    "plt.show()\n"
   ]
  },
  {
   "cell_type": "markdown",
   "metadata": {},
   "source": [
    "https://developers.google.com/machine-learning/crash-course/linear-regression/gradient-descent#model_convergence_and_loss_curves\n",
    "\n",
    "\n",
    "Loss is a metric that shows how wrong a model's predictions are. A downward slope of the loss curve means that the model is improving (it is making less wrong predictions) and the flattening of the curve shows that the model is converging. \n",
    "\n",
    "When you compare the loss curves of the training and validation data, you see a steep drop initially for both, then the curve beginning to flatten. This is normal and symbolizes that the model is training, improving, and converging. Since there isnt much of a gap between the training and validation curve, we can conclude that overfitting is not occurring in this model. "
   ]
  },
  {
   "cell_type": "markdown",
   "metadata": {},
   "source": [
    "I use the same embedding process for the following models as i did for model 1"
   ]
  },
  {
   "cell_type": "markdown",
   "metadata": {},
   "source": [
    "Wide and Deep model 2\n",
    "    This model uses two more deep layers"
   ]
  },
  {
   "cell_type": "code",
   "execution_count": 31,
   "metadata": {},
   "outputs": [],
   "source": [
    "# Function to create Keras model\n",
    "def create_wide_deep_model2(numeric_dim, crossed_dim, categorical_dim):\n",
    "    # Input layer\n",
    "    numeric_input = Input(shape=(numeric_dim,))\n",
    "    crossed_input = Input(shape=(crossed_dim,))\n",
    "    categorical_input = Input(shape=(categorical_dim,))\n",
    "    \n",
    "    wide_input = layers.concatenate([numeric_input, crossed_input])\n",
    "    # Wide part (shallow model, might just be one dense layer)\n",
    "    wide_layer = Dense(16, activation='linear')(wide_input)\n",
    "    \n",
    "    # Deep part (deeper neural network with more layers)\n",
    "    deep_layer = Dense(512, activation='relu')(categorical_input)\n",
    "    deep_layer = Dense(256, activation='relu')(deep_layer)\n",
    "    deep_layer = Dense(128, activation='relu')(deep_layer)\n",
    "    deep_layer = Dense(64, activation='relu')(deep_layer)\n",
    "    deep_layer = Dense(32, activation='relu')(deep_layer)\n",
    "    deep_layer = Dense(16, activation='relu')(deep_layer)\n",
    "    \n",
    "    # Combine the wide and deep parts (concatenate)\n",
    "    combined = layers.add([wide_layer, deep_layer])\n",
    "\n",
    "    #output\n",
    "    output_layer = Dense(7, activation='softmax')(combined)\n",
    "    \n",
    "    # Create the model\n",
    "    model = Model(inputs=[numeric_input, crossed_input, categorical_input], outputs=output_layer)\n",
    "    \n",
    "    # Compile the model\n",
    "    model.compile(optimizer=Adam(), loss='sparse_categorical_crossentropy', metrics=['accuracy'])\n",
    "    \n",
    "    return model"
   ]
  },
  {
   "cell_type": "code",
   "execution_count": 32,
   "metadata": {},
   "outputs": [
    {
     "name": "stdout",
     "output_type": "stream",
     "text": [
      "212\n"
     ]
    },
    {
     "name": "stderr",
     "output_type": "stream",
     "text": [
      "/Users/elichesnut/Documents/GitHub/MLLab5-2/.venv/lib/python3.12/site-packages/keras/src/models/functional.py:225: UserWarning: The structure of `inputs` doesn't match the expected structure: ['keras_tensor_100', 'keras_tensor_101', 'keras_tensor_102']. Received: the structure of inputs=('*', '*', '*')\n",
      "  warnings.warn(\n"
     ]
    },
    {
     "name": "stdout",
     "output_type": "stream",
     "text": [
      "\u001b[1m7/7\u001b[0m \u001b[32m━━━━━━━━━━━━━━━━━━━━\u001b[0m\u001b[37m\u001b[0m \u001b[1m0s\u001b[0m 5ms/step \n",
      "Fold 0 - Validation Loss: 0.1743, Accuracy: 0.9481, Recall: 0.7057\n",
      "211\n"
     ]
    },
    {
     "name": "stderr",
     "output_type": "stream",
     "text": [
      "/Users/elichesnut/Documents/GitHub/MLLab5-2/.venv/lib/python3.12/site-packages/keras/src/models/functional.py:225: UserWarning: The structure of `inputs` doesn't match the expected structure: ['keras_tensor_113', 'keras_tensor_114', 'keras_tensor_115']. Received: the structure of inputs=('*', '*', '*')\n",
      "  warnings.warn(\n"
     ]
    },
    {
     "name": "stdout",
     "output_type": "stream",
     "text": [
      "\u001b[1m7/7\u001b[0m \u001b[32m━━━━━━━━━━━━━━━━━━━━\u001b[0m\u001b[37m\u001b[0m \u001b[1m0s\u001b[0m 6ms/step \n",
      "Fold 1 - Validation Loss: 0.2337, Accuracy: 0.9005, Recall: 0.7765\n",
      "211\n"
     ]
    },
    {
     "name": "stderr",
     "output_type": "stream",
     "text": [
      "/Users/elichesnut/Documents/GitHub/MLLab5-2/.venv/lib/python3.12/site-packages/keras/src/models/functional.py:225: UserWarning: The structure of `inputs` doesn't match the expected structure: ['keras_tensor_126', 'keras_tensor_127', 'keras_tensor_128']. Received: the structure of inputs=('*', '*', '*')\n",
      "  warnings.warn(\n"
     ]
    },
    {
     "name": "stdout",
     "output_type": "stream",
     "text": [
      "\u001b[1m7/7\u001b[0m \u001b[32m━━━━━━━━━━━━━━━━━━━━\u001b[0m\u001b[37m\u001b[0m \u001b[1m0s\u001b[0m 5ms/step \n",
      "Fold 2 - Validation Loss: 0.1654, Accuracy: 0.9573, Recall: 0.9327\n",
      "211\n"
     ]
    },
    {
     "name": "stderr",
     "output_type": "stream",
     "text": [
      "/Users/elichesnut/Documents/GitHub/MLLab5-2/.venv/lib/python3.12/site-packages/keras/src/models/functional.py:225: UserWarning: The structure of `inputs` doesn't match the expected structure: ['keras_tensor_139', 'keras_tensor_140', 'keras_tensor_141']. Received: the structure of inputs=('*', '*', '*')\n",
      "  warnings.warn(\n"
     ]
    },
    {
     "name": "stdout",
     "output_type": "stream",
     "text": [
      "\u001b[1m7/7\u001b[0m \u001b[32m━━━━━━━━━━━━━━━━━━━━\u001b[0m\u001b[37m\u001b[0m \u001b[1m0s\u001b[0m 5ms/step \n",
      "Fold 3 - Validation Loss: 0.1458, Accuracy: 0.9716, Recall: 0.8918\n",
      "211\n"
     ]
    },
    {
     "name": "stderr",
     "output_type": "stream",
     "text": [
      "/Users/elichesnut/Documents/GitHub/MLLab5-2/.venv/lib/python3.12/site-packages/keras/src/models/functional.py:225: UserWarning: The structure of `inputs` doesn't match the expected structure: ['keras_tensor_152', 'keras_tensor_153', 'keras_tensor_154']. Received: the structure of inputs=('*', '*', '*')\n",
      "  warnings.warn(\n"
     ]
    },
    {
     "name": "stdout",
     "output_type": "stream",
     "text": [
      "\u001b[1m7/7\u001b[0m \u001b[32m━━━━━━━━━━━━━━━━━━━━\u001b[0m\u001b[37m\u001b[0m \u001b[1m0s\u001b[0m 5ms/step \n",
      "Fold 4 - Validation Loss: 0.1583, Accuracy: 0.9621, Recall: 0.8188\n",
      "211\n"
     ]
    },
    {
     "name": "stderr",
     "output_type": "stream",
     "text": [
      "/Users/elichesnut/Documents/GitHub/MLLab5-2/.venv/lib/python3.12/site-packages/keras/src/models/functional.py:225: UserWarning: The structure of `inputs` doesn't match the expected structure: ['keras_tensor_165', 'keras_tensor_166', 'keras_tensor_167']. Received: the structure of inputs=('*', '*', '*')\n",
      "  warnings.warn(\n"
     ]
    },
    {
     "name": "stdout",
     "output_type": "stream",
     "text": [
      "\u001b[1m7/7\u001b[0m \u001b[32m━━━━━━━━━━━━━━━━━━━━\u001b[0m\u001b[37m\u001b[0m \u001b[1m0s\u001b[0m 5ms/step \n",
      "Fold 5 - Validation Loss: 0.1406, Accuracy: 0.9810, Recall: 0.8787\n",
      "211\n"
     ]
    },
    {
     "name": "stderr",
     "output_type": "stream",
     "text": [
      "/Users/elichesnut/Documents/GitHub/MLLab5-2/.venv/lib/python3.12/site-packages/keras/src/models/functional.py:225: UserWarning: The structure of `inputs` doesn't match the expected structure: ['keras_tensor_178', 'keras_tensor_179', 'keras_tensor_180']. Received: the structure of inputs=('*', '*', '*')\n",
      "  warnings.warn(\n"
     ]
    },
    {
     "name": "stdout",
     "output_type": "stream",
     "text": [
      "\u001b[1m7/7\u001b[0m \u001b[32m━━━━━━━━━━━━━━━━━━━━\u001b[0m\u001b[37m\u001b[0m \u001b[1m0s\u001b[0m 6ms/step \n",
      "Fold 6 - Validation Loss: 0.1469, Accuracy: 0.9668, Recall: 0.8783\n",
      "211\n"
     ]
    },
    {
     "name": "stderr",
     "output_type": "stream",
     "text": [
      "/Users/elichesnut/Documents/GitHub/MLLab5-2/.venv/lib/python3.12/site-packages/keras/src/models/functional.py:225: UserWarning: The structure of `inputs` doesn't match the expected structure: ['keras_tensor_191', 'keras_tensor_192', 'keras_tensor_193']. Received: the structure of inputs=('*', '*', '*')\n",
      "  warnings.warn(\n"
     ]
    },
    {
     "name": "stdout",
     "output_type": "stream",
     "text": [
      "\u001b[1m7/7\u001b[0m \u001b[32m━━━━━━━━━━━━━━━━━━━━\u001b[0m\u001b[37m\u001b[0m \u001b[1m0s\u001b[0m 5ms/step \n",
      "Fold 7 - Validation Loss: 0.1509, Accuracy: 0.9668, Recall: 0.9046\n",
      "211\n"
     ]
    },
    {
     "name": "stderr",
     "output_type": "stream",
     "text": [
      "/Users/elichesnut/Documents/GitHub/MLLab5-2/.venv/lib/python3.12/site-packages/keras/src/models/functional.py:225: UserWarning: The structure of `inputs` doesn't match the expected structure: ['keras_tensor_204', 'keras_tensor_205', 'keras_tensor_206']. Received: the structure of inputs=('*', '*', '*')\n",
      "  warnings.warn(\n"
     ]
    },
    {
     "name": "stdout",
     "output_type": "stream",
     "text": [
      "\u001b[1m7/7\u001b[0m \u001b[32m━━━━━━━━━━━━━━━━━━━━\u001b[0m\u001b[37m\u001b[0m \u001b[1m0s\u001b[0m 5ms/step \n",
      "Fold 8 - Validation Loss: 0.1267, Accuracy: 0.9716, Recall: 0.9264\n",
      "211\n"
     ]
    },
    {
     "name": "stderr",
     "output_type": "stream",
     "text": [
      "/Users/elichesnut/Documents/GitHub/MLLab5-2/.venv/lib/python3.12/site-packages/keras/src/models/functional.py:225: UserWarning: The structure of `inputs` doesn't match the expected structure: ['keras_tensor_217', 'keras_tensor_218', 'keras_tensor_219']. Received: the structure of inputs=('*', '*', '*')\n",
      "  warnings.warn(\n"
     ]
    },
    {
     "name": "stdout",
     "output_type": "stream",
     "text": [
      "\u001b[1m7/7\u001b[0m \u001b[32m━━━━━━━━━━━━━━━━━━━━\u001b[0m\u001b[37m\u001b[0m \u001b[1m0s\u001b[0m 5ms/step \n",
      "Fold 9 - Validation Loss: 0.1608, Accuracy: 0.9526, Recall: 0.9208\n",
      "Average Validation Loss: 0.1603, Average Validation Accuracy: 0.9578\n",
      "Average Recall Score:  0.8634382648914668\n"
     ]
    }
   ],
   "source": [
    "# Define Stratified KFold with 10 splits\n",
    "kfold_for_validation = StratifiedKFold(n_splits=10)\n",
    "\n",
    "# List to store validation metrics for each fold\n",
    "val_losses = []\n",
    "val_accuracies = []\n",
    "rec_scores = []\n",
    "# List to store the history at each\n",
    "histories = []\n",
    "auc_scores_model2 = []\n",
    "\n",
    "# K-Fold Cross-Validation\n",
    "for k, (train_idx, val_idx) in enumerate(kfold_for_validation.split(X,y)):\n",
    "    X_train_fold, X_val_fold = X[train_idx], X[val_idx]\n",
    "    y_train_fold, y_val_fold = y[train_idx], y[val_idx]\n",
    "\n",
    "    X_train_numeric = X_train_fold[:, numeric_feature_indices]\n",
    "    X_train_crossed = np.hstack([\n",
    "        X_train_fold[:, start:end+1] for start, end in crossed_feature_indices\n",
    "    ])\n",
    "    #gets categorical columns for x_train fold\n",
    "    X_train_categorical = X_train_fold[:, categorical_feature_indices]\n",
    "\n",
    "    #get numeric values for the validation set \n",
    "    X_val_numeric = X_val_fold[:, numeric_feature_indices]\n",
    "    X_val_crossed = np.hstack([\n",
    "        X_val_fold[:, start:end+1] for start, end in crossed_feature_indices\n",
    "    ])\n",
    "    #get categorical values for the validation set for the fold \n",
    "    X_val_categorical = X_val_fold[:, categorical_feature_indices]\n",
    "    \n",
    "    \n",
    "    # Create a new Keras model for each fold \n",
    "    model_2 = create_wide_deep_model2(numeric_dim=X_train_numeric.shape[1],\n",
    "        crossed_dim=X_train_crossed.shape[1],\n",
    "        categorical_dim=X_train_categorical.shape[1])\n",
    "    \n",
    "    # Use EarlyStopping to avoid overfitting\n",
    "    early_stopping = EarlyStopping(monitor='val_loss', patience=3, restore_best_weights=True)\n",
    "    print(y_val_fold.size)\n",
    "    \n",
    "    # Train the model on the current fold\n",
    "    history = model_2.fit([X_train_numeric, X_train_crossed, X_train_categorical],\n",
    "        y_train_fold,\n",
    "        validation_data=(\n",
    "            [X_val_numeric, X_val_crossed, X_val_categorical],\n",
    "            y_val_fold),\n",
    "              epochs=50, \n",
    "              batch_size=32, \n",
    "              callbacks=[early_stopping], \n",
    "              verbose=0)\n",
    "    histories.append(history)\n",
    "\n",
    "    y_pred_probs2 = model_2.predict([X_val_numeric, X_val_crossed, X_val_categorical])  # Predicted probabilities\n",
    "    y_pred2 = np.argmax(y_pred_probs2, axis=1)  # Convert probabilities to class predictions\n",
    "\n",
    "    auc_fold_model2 = roc_auc_score(y_val_fold, y_pred_probs2, multi_class='ovr', average='macro')\n",
    "    auc_scores_model2.append(auc_fold_model2)\n",
    "    recall = recall_score(y_val_fold, y_pred2, average='macro')\n",
    "    rec_scores.append(recall)\n",
    "    val_loss, val_accuracy = model_1.evaluate(\n",
    "        [X_val_numeric, X_val_crossed, X_val_categorical],\n",
    "        y_val_fold,\n",
    "        verbose=0\n",
    "    )\n",
    "    val_losses.append(val_loss)\n",
    "    val_accuracies.append(val_accuracy)\n",
    "\n",
    "    print(f\"Fold {k} - Validation Loss: {val_loss:.4f}, Accuracy: {val_accuracy:.4f}, Recall: {recall:.4f}\")\n",
    "\n",
    "# Calculate average performance metrics across all folds\n",
    "avg_rec = np.mean(rec_scores)\n",
    "avg_val_loss = np.mean(val_losses)\n",
    "avg_val_accuracy = np.mean(val_accuracies)\n",
    "print(f\"Average Validation Loss: {avg_val_loss:.4f}, Average Validation Accuracy: {avg_val_accuracy:.4f}\")\n",
    "print(\"Average Recall Score: \", avg_rec)\n"
   ]
  },
  {
   "cell_type": "markdown",
   "metadata": {},
   "source": []
  },
  {
   "cell_type": "code",
   "execution_count": 33,
   "metadata": {},
   "outputs": [
    {
     "data": {
      "image/png": "[encoded data removed]",
      "text/plain": [
       "<Figure size 640x480 with 1 Axes>"
      ]
     },
     "metadata": {},
     "output_type": "display_data"
    }
   ],
   "source": [
    "import matplotlib.pyplot as plt\n",
    "from sklearn.metrics import roc_curve\n",
    "from matplotlib import pyplot as plt\n",
    "\n",
    "plt.plot(history.history['loss'],label='training')\n",
    "plt.plot(history.history['val_loss'],label='validation')\n",
    "plt.legend()\n",
    "plt.show()\n"
   ]
  },
  {
   "cell_type": "markdown",
   "metadata": {},
   "source": [
    "Model 2 is deeper than model one. It has 6 deep layers instead of 3. \n",
    "\n",
    "We can see that the validation loss curve is kind of spiky, which indicates that the loss values fluctuate across epochs. It is possible that this is due to noise or random chance, especially  since the validation set only contains 212 samples, which is relatively small and could explain this fluctuation. \n",
    "\n",
    "The recall score is also significantly worse in this model than it was in the previous (.84 vs .92). The additional deep layers (compared to our first wide and deep model) could also cause the validation loss curve to fluctuate more because the increased depth may be doing a worse job at generalizing. The model could be learning too many specific patterns in the data, which would lead to worse generalization of the overall patterns in the data, leading to worse performance. "
   ]
  },
  {
   "cell_type": "markdown",
   "metadata": {},
   "source": [
    "Wide and Deep model 3\n",
    "    This model uses less deep layers"
   ]
  },
  {
   "cell_type": "code",
   "execution_count": 34,
   "metadata": {},
   "outputs": [],
   "source": [
    "def create_wide_deep_model3(numeric_dim, crossed_dim, categorical_dim):\n",
    "    # Input layer\n",
    "    numeric_input = Input(shape=(numeric_dim,))\n",
    "    crossed_input = Input(shape=(crossed_dim,))\n",
    "    categorical_input = Input(shape=(categorical_dim,))\n",
    "\n",
    "    # Wide part (concatenate numeric and crossed inputs)\n",
    "    wide_input = layers.concatenate([numeric_input, crossed_input])\n",
    "    wide_layer = Dense(16, activation='linear')(wide_input)\n",
    "    \n",
    "    # Deep part (deeper neural network with more layers)\n",
    "    deep_layer = Dense(32, activation='relu')(categorical_input)\n",
    "    deep_layer = Dense(16, activation='relu')(deep_layer)\n",
    "    \n",
    "    # Combine the wide and deep parts (concatenate)\n",
    "    combined = layers.add([wide_layer, deep_layer])\n",
    "\n",
    "    #output\n",
    "    output_layer = Dense(7, activation='softmax')(combined)\n",
    "    \n",
    "    # Create the model\n",
    "    model = Model(inputs=[numeric_input, crossed_input, categorical_input], outputs=output_layer)\n",
    "    \n",
    "    # Compile the model\n",
    "    model.compile(optimizer=Adam(), loss='sparse_categorical_crossentropy', metrics=['accuracy'])\n",
    "    \n",
    "    return model"
   ]
  },
  {
   "cell_type": "code",
   "execution_count": 35,
   "metadata": {},
   "outputs": [
    {
     "name": "stderr",
     "output_type": "stream",
     "text": [
      "/Users/elichesnut/Documents/GitHub/MLLab5-2/.venv/lib/python3.12/site-packages/keras/src/models/functional.py:225: UserWarning: The structure of `inputs` doesn't match the expected structure: ['keras_tensor_230', 'keras_tensor_231', 'keras_tensor_232']. Received: the structure of inputs=('*', '*', '*')\n",
      "  warnings.warn(\n"
     ]
    },
    {
     "name": "stdout",
     "output_type": "stream",
     "text": [
      "\u001b[1m7/7\u001b[0m \u001b[32m━━━━━━━━━━━━━━━━━━━━\u001b[0m\u001b[37m\u001b[0m \u001b[1m0s\u001b[0m 3ms/step \n",
      "Fold 0 - Validation Loss: 0.3630, Accuracy: 0.8443, Recall: 0.8443\n"
     ]
    },
    {
     "name": "stderr",
     "output_type": "stream",
     "text": [
      "/Users/elichesnut/Documents/GitHub/MLLab5-2/.venv/lib/python3.12/site-packages/keras/src/models/functional.py:225: UserWarning: The structure of `inputs` doesn't match the expected structure: ['keras_tensor_239', 'keras_tensor_240', 'keras_tensor_241']. Received: the structure of inputs=('*', '*', '*')\n",
      "  warnings.warn(\n"
     ]
    },
    {
     "name": "stdout",
     "output_type": "stream",
     "text": [
      "\u001b[1m7/7\u001b[0m \u001b[32m━━━━━━━━━━━━━━━━━━━━\u001b[0m\u001b[37m\u001b[0m \u001b[1m0s\u001b[0m 4ms/step \n",
      "Fold 1 - Validation Loss: 0.4197, Accuracy: 0.8436, Recall: 0.8392\n"
     ]
    },
    {
     "name": "stderr",
     "output_type": "stream",
     "text": [
      "/Users/elichesnut/Documents/GitHub/MLLab5-2/.venv/lib/python3.12/site-packages/keras/src/models/functional.py:225: UserWarning: The structure of `inputs` doesn't match the expected structure: ['keras_tensor_248', 'keras_tensor_249', 'keras_tensor_250']. Received: the structure of inputs=('*', '*', '*')\n",
      "  warnings.warn(\n"
     ]
    },
    {
     "name": "stdout",
     "output_type": "stream",
     "text": [
      "\u001b[1m7/7\u001b[0m \u001b[32m━━━━━━━━━━━━━━━━━━━━\u001b[0m\u001b[37m\u001b[0m \u001b[1m0s\u001b[0m 3ms/step \n",
      "Fold 2 - Validation Loss: 0.2175, Accuracy: 0.9431, Recall: 0.9409\n"
     ]
    },
    {
     "name": "stderr",
     "output_type": "stream",
     "text": [
      "/Users/elichesnut/Documents/GitHub/MLLab5-2/.venv/lib/python3.12/site-packages/keras/src/models/functional.py:225: UserWarning: The structure of `inputs` doesn't match the expected structure: ['keras_tensor_257', 'keras_tensor_258', 'keras_tensor_259']. Received: the structure of inputs=('*', '*', '*')\n",
      "  warnings.warn(\n"
     ]
    },
    {
     "name": "stdout",
     "output_type": "stream",
     "text": [
      "\u001b[1m7/7\u001b[0m \u001b[32m━━━━━━━━━━━━━━━━━━━━\u001b[0m\u001b[37m\u001b[0m \u001b[1m0s\u001b[0m 4ms/step \n",
      "Fold 3 - Validation Loss: 0.1856, Accuracy: 0.9573, Recall: 0.9567\n"
     ]
    },
    {
     "name": "stderr",
     "output_type": "stream",
     "text": [
      "/Users/elichesnut/Documents/GitHub/MLLab5-2/.venv/lib/python3.12/site-packages/keras/src/models/functional.py:225: UserWarning: The structure of `inputs` doesn't match the expected structure: ['keras_tensor_266', 'keras_tensor_267', 'keras_tensor_268']. Received: the structure of inputs=('*', '*', '*')\n",
      "  warnings.warn(\n"
     ]
    },
    {
     "name": "stdout",
     "output_type": "stream",
     "text": [
      "\u001b[1m7/7\u001b[0m \u001b[32m━━━━━━━━━━━━━━━━━━━━\u001b[0m\u001b[37m\u001b[0m \u001b[1m0s\u001b[0m 3ms/step  \n",
      "Fold 4 - Validation Loss: 0.2466, Accuracy: 0.9147, Recall: 0.9130\n"
     ]
    },
    {
     "name": "stderr",
     "output_type": "stream",
     "text": [
      "/Users/elichesnut/Documents/GitHub/MLLab5-2/.venv/lib/python3.12/site-packages/keras/src/models/functional.py:225: UserWarning: The structure of `inputs` doesn't match the expected structure: ['keras_tensor_275', 'keras_tensor_276', 'keras_tensor_277']. Received: the structure of inputs=('*', '*', '*')\n",
      "  warnings.warn(\n"
     ]
    },
    {
     "name": "stdout",
     "output_type": "stream",
     "text": [
      "\u001b[1m7/7\u001b[0m \u001b[32m━━━━━━━━━━━━━━━━━━━━\u001b[0m\u001b[37m\u001b[0m \u001b[1m0s\u001b[0m 3ms/step \n",
      "Fold 5 - Validation Loss: 0.2005, Accuracy: 0.9431, Recall: 0.9417\n"
     ]
    },
    {
     "name": "stderr",
     "output_type": "stream",
     "text": [
      "/Users/elichesnut/Documents/GitHub/MLLab5-2/.venv/lib/python3.12/site-packages/keras/src/models/functional.py:225: UserWarning: The structure of `inputs` doesn't match the expected structure: ['keras_tensor_284', 'keras_tensor_285', 'keras_tensor_286']. Received: the structure of inputs=('*', '*', '*')\n",
      "  warnings.warn(\n"
     ]
    },
    {
     "name": "stdout",
     "output_type": "stream",
     "text": [
      "\u001b[1m7/7\u001b[0m \u001b[32m━━━━━━━━━━━━━━━━━━━━\u001b[0m\u001b[37m\u001b[0m \u001b[1m0s\u001b[0m 3ms/step \n",
      "Fold 6 - Validation Loss: 0.1692, Accuracy: 0.9763, Recall: 0.9754\n"
     ]
    },
    {
     "name": "stderr",
     "output_type": "stream",
     "text": [
      "/Users/elichesnut/Documents/GitHub/MLLab5-2/.venv/lib/python3.12/site-packages/keras/src/models/functional.py:225: UserWarning: The structure of `inputs` doesn't match the expected structure: ['keras_tensor_293', 'keras_tensor_294', 'keras_tensor_295']. Received: the structure of inputs=('*', '*', '*')\n",
      "  warnings.warn(\n"
     ]
    },
    {
     "name": "stdout",
     "output_type": "stream",
     "text": [
      "\u001b[1m7/7\u001b[0m \u001b[32m━━━━━━━━━━━━━━━━━━━━\u001b[0m\u001b[37m\u001b[0m \u001b[1m0s\u001b[0m 3ms/step \n",
      "Fold 7 - Validation Loss: 0.2045, Accuracy: 0.9242, Recall: 0.9224\n"
     ]
    },
    {
     "name": "stderr",
     "output_type": "stream",
     "text": [
      "/Users/elichesnut/Documents/GitHub/MLLab5-2/.venv/lib/python3.12/site-packages/keras/src/models/functional.py:225: UserWarning: The structure of `inputs` doesn't match the expected structure: ['keras_tensor_302', 'keras_tensor_303', 'keras_tensor_304']. Received: the structure of inputs=('*', '*', '*')\n",
      "  warnings.warn(\n"
     ]
    },
    {
     "name": "stdout",
     "output_type": "stream",
     "text": [
      "\u001b[1m7/7\u001b[0m \u001b[32m━━━━━━━━━━━━━━━━━━━━\u001b[0m\u001b[37m\u001b[0m \u001b[1m0s\u001b[0m 3ms/step \n",
      "Fold 8 - Validation Loss: 0.1537, Accuracy: 0.9716, Recall: 0.9706\n"
     ]
    },
    {
     "name": "stderr",
     "output_type": "stream",
     "text": [
      "/Users/elichesnut/Documents/GitHub/MLLab5-2/.venv/lib/python3.12/site-packages/keras/src/models/functional.py:225: UserWarning: The structure of `inputs` doesn't match the expected structure: ['keras_tensor_311', 'keras_tensor_312', 'keras_tensor_313']. Received: the structure of inputs=('*', '*', '*')\n",
      "  warnings.warn(\n"
     ]
    },
    {
     "name": "stdout",
     "output_type": "stream",
     "text": [
      "\u001b[1m7/7\u001b[0m \u001b[32m━━━━━━━━━━━━━━━━━━━━\u001b[0m\u001b[37m\u001b[0m \u001b[1m0s\u001b[0m 3ms/step \n",
      "Fold 9 - Validation Loss: 0.1810, Accuracy: 0.9479, Recall: 0.9464\n",
      "Average Validation Loss: 0.2341, Average Validation Accuracy: 0.9266\n",
      "Average Recall Score:  0.8634382648914668\n"
     ]
    }
   ],
   "source": [
    "# Define Stratified KFold with 10 splits\n",
    "kfold_for_validation = StratifiedKFold(n_splits=10)\n",
    "\n",
    "# List to store validation metrics for each fold\n",
    "val_losses = []\n",
    "val_accuracies = []\n",
    "# List to store the history at each\n",
    "histories = []\n",
    "rec_scores3 = []\n",
    "\n",
    "auc_scores_model3 = []\n",
    "\n",
    "# K-Fold Cross-Validation\n",
    "for k, (train_idx, val_idx) in enumerate(kfold_for_validation.split(X,y)):\n",
    "    X_train_fold, X_val_fold = X[train_idx], X[val_idx]\n",
    "    y_train_fold, y_val_fold = y[train_idx], y[val_idx]\n",
    "\n",
    "\n",
    "    X_train_numeric = X_train_fold[:, numeric_feature_indices]\n",
    "    X_train_crossed = np.hstack([\n",
    "        X_train_fold[:, start:end+1] for start, end in crossed_feature_indices\n",
    "    ])\n",
    "    #gets categorical columns for x_train fold\n",
    "    X_train_categorical = X_train_fold[:, categorical_feature_indices]\n",
    "\n",
    "    #get numeric values for the validation set \n",
    "    X_val_numeric = X_val_fold[:, numeric_feature_indices]\n",
    "    X_val_crossed = np.hstack([\n",
    "        X_val_fold[:, start:end+1] for start, end in crossed_feature_indices\n",
    "    ])\n",
    "    #get categorical values for the validation set for the fold \n",
    "    X_val_categorical = X_val_fold[:, categorical_feature_indices]\n",
    "\n",
    "    \n",
    "    # Create a new Keras model for each fold \n",
    "    model_3 = create_wide_deep_model3(numeric_dim=X_train_numeric.shape[1],\n",
    "        crossed_dim=X_train_crossed.shape[1],\n",
    "        categorical_dim=X_train_categorical.shape[1])\n",
    "    \n",
    "    # Use EarlyStopping to avoid overfitting\n",
    "    early_stopping = EarlyStopping(monitor='val_loss', patience=3, restore_best_weights=True)\n",
    "    \n",
    "    # Train the model on the current fold\n",
    "    history = model_3.fit([X_train_numeric, X_train_crossed, X_train_categorical],\n",
    "        y_train_fold,\n",
    "        validation_data=(\n",
    "            [X_val_numeric, X_val_crossed, X_val_categorical],\n",
    "            y_val_fold\n",
    "        ),\n",
    "              epochs=50, \n",
    "              batch_size=32, \n",
    "              callbacks=[early_stopping], \n",
    "              verbose=0)\n",
    "    histories.append(history)\n",
    "\n",
    "    \n",
    "    y_pred_probs3 = model_3.predict([X_val_numeric, X_val_crossed, X_val_categorical])\n",
    "    y_pred3 = np.argmax(y_pred_probs3, axis=1)\n",
    "\n",
    "    auc_fold_model3 = roc_auc_score(y_val_fold, y_pred_probs3, multi_class='ovr', average='macro')\n",
    "    auc_scores_model3.append(auc_fold_model3)\n",
    "\n",
    "    recall = recall_score(y_val_fold, y_pred3, average='macro')\n",
    "    rec_scores3.append(recall)\n",
    "\n",
    "    val_loss, val_accuracy = model_3.evaluate(\n",
    "        [X_val_numeric, X_val_crossed, X_val_categorical],\n",
    "        y_val_fold,\n",
    "        verbose=0\n",
    "    )\n",
    "    val_losses.append(val_loss)\n",
    "    val_accuracies.append(val_accuracy)\n",
    "\n",
    "    print(f\"Fold {k} - Validation Loss: {val_loss:.4f}, Accuracy: {val_accuracy:.4f}, Recall: {recall:.4f}\")\n",
    "\n",
    "# Calculate average performance metrics across all folds\n",
    "avg_rec = np.mean(rec_scores)\n",
    "avg_val_loss = np.mean(val_losses)\n",
    "avg_val_accuracy = np.mean(val_accuracies)\n",
    "print(f\"Average Validation Loss: {avg_val_loss:.4f}, Average Validation Accuracy: {avg_val_accuracy:.4f}\")\n",
    "print(\"Average Recall Score: \", avg_rec)"
   ]
  },
  {
   "cell_type": "code",
   "execution_count": 36,
   "metadata": {},
   "outputs": [
    {
     "data": {
      "image/png": "[encoded data removed]",
      "text/plain": [
       "<Figure size 640x480 with 1 Axes>"
      ]
     },
     "metadata": {},
     "output_type": "display_data"
    }
   ],
   "source": [
    "import matplotlib.pyplot as plt\n",
    "from sklearn.metrics import roc_curve\n",
    "from matplotlib import pyplot as plt\n",
    "\n",
    "plt.plot(history.history['loss'],label='training')\n",
    "plt.plot(history.history['val_loss'],label='validation')\n",
    "plt.legend()\n",
    "plt.show()\n"
   ]
  },
  {
   "cell_type": "markdown",
   "metadata": {},
   "source": [
    "Model 3 only uses 2 deep layers, which is less than our previous two models. \n",
    "\n",
    "While the average recall of Model 3 is similar to that of Model 1, the loss curves are much smoother, both for training and validation data. Deeper networks often have more complex optimization landscapes, meaning there may be more local minimums/saddle points, which would cause more variation across epochs. \n",
    "\n",
    "The improved performance of this model over the previous ones (especially model 2) indicates that the smaller number of deep layers is doing a better job of generalizing, which causes less fluctuation in loss over epochs. This makes sense since because the classification task is relatively simple. The attributes in the data set contain very valuable predictors for the task and there is a limited number of classes in the target variable. (EX: eating high calorie food and having a family history of obesity are knwon predictors of obesity) Additional deep layers, like in Model 2, are unnecessary and can cause the model to capture obscure/trivial patterns in the data. "
   ]
  },
  {
   "cell_type": "markdown",
   "metadata": {},
   "source": [
    "No Wide, Only Deep model\n",
    "\n",
    "This is the same as the original model but without any wide layers"
   ]
  },
  {
   "cell_type": "code",
   "execution_count": 37,
   "metadata": {},
   "outputs": [],
   "source": [
    "def create_deep_model(numeric_dim, crossed_dim, categorical_dim):\n",
    "    # Input layer\n",
    "    numeric_input = Input(shape=(numeric_dim,))\n",
    "    crossed_input = Input(shape=(crossed_dim,))\n",
    "    categorical_input = Input(shape=(categorical_dim,))\n",
    "\n",
    "    numeric_dense = Dense(64, activation='relu')(numeric_input)\n",
    "    crossed_dense = Dense(64, activation='relu')(crossed_input)\n",
    "    categorical_dense = Dense(64, activation='relu')(categorical_input)\n",
    "\n",
    "    combined = Concatenate()([numeric_dense, crossed_dense, categorical_dense])\n",
    "\n",
    "    deep_layer = Dense(128, activation='relu')(combined)\n",
    "    deep_layer = Dense(64, activation='relu')(deep_layer)\n",
    "    deep_layer = Dense(32, activation='relu')(deep_layer)\n",
    "    \n",
    "    # Combine the wide and deep parts (concatenate)\n",
    "    # combined = Dense(16, activation='relu')(wide_layer)  # Can also combine here\n",
    "    output_layer = Dense(7, activation='softmax')(deep_layer)  # Output layer\n",
    "    \n",
    "    # Create the model\n",
    "    model = Model(inputs=[numeric_input, crossed_input, categorical_input], outputs=output_layer)\n",
    "    \n",
    "    # Compile the model\n",
    "    model.compile(optimizer=Adam(), loss='sparse_categorical_crossentropy', metrics=['accuracy'])\n",
    "    \n",
    "    return model"
   ]
  },
  {
   "cell_type": "code",
   "execution_count": 38,
   "metadata": {},
   "outputs": [
    {
     "name": "stderr",
     "output_type": "stream",
     "text": [
      "/Users/elichesnut/Documents/GitHub/MLLab5-2/.venv/lib/python3.12/site-packages/keras/src/models/functional.py:225: UserWarning: The structure of `inputs` doesn't match the expected structure: ['keras_tensor_320', 'keras_tensor_321', 'keras_tensor_322']. Received: the structure of inputs=('*', '*', '*')\n",
      "  warnings.warn(\n"
     ]
    },
    {
     "name": "stdout",
     "output_type": "stream",
     "text": [
      "\u001b[1m7/7\u001b[0m \u001b[32m━━━━━━━━━━━━━━━━━━━━\u001b[0m\u001b[37m\u001b[0m \u001b[1m0s\u001b[0m 4ms/step \n",
      "Fold 0 - Validation Loss: 0.2340, Accuracy: 0.9057, Recall: 0.9010\n"
     ]
    },
    {
     "name": "stderr",
     "output_type": "stream",
     "text": [
      "/Users/elichesnut/Documents/GitHub/MLLab5-2/.venv/lib/python3.12/site-packages/keras/src/models/functional.py:225: UserWarning: The structure of `inputs` doesn't match the expected structure: ['keras_tensor_331', 'keras_tensor_332', 'keras_tensor_333']. Received: the structure of inputs=('*', '*', '*')\n",
      "  warnings.warn(\n"
     ]
    },
    {
     "name": "stdout",
     "output_type": "stream",
     "text": [
      "\u001b[1m7/7\u001b[0m \u001b[32m━━━━━━━━━━━━━━━━━━━━\u001b[0m\u001b[37m\u001b[0m \u001b[1m0s\u001b[0m 4ms/step \n",
      "Fold 1 - Validation Loss: 0.2516, Accuracy: 0.9052, Recall: 0.9020\n"
     ]
    },
    {
     "name": "stderr",
     "output_type": "stream",
     "text": [
      "/Users/elichesnut/Documents/GitHub/MLLab5-2/.venv/lib/python3.12/site-packages/keras/src/models/functional.py:225: UserWarning: The structure of `inputs` doesn't match the expected structure: ['keras_tensor_342', 'keras_tensor_343', 'keras_tensor_344']. Received: the structure of inputs=('*', '*', '*')\n",
      "  warnings.warn(\n"
     ]
    },
    {
     "name": "stdout",
     "output_type": "stream",
     "text": [
      "\u001b[1m7/7\u001b[0m \u001b[32m━━━━━━━━━━━━━━━━━━━━\u001b[0m\u001b[37m\u001b[0m \u001b[1m0s\u001b[0m 4ms/step \n",
      "Fold 2 - Validation Loss: 0.1547, Accuracy: 0.9479, Recall: 0.9459\n"
     ]
    },
    {
     "name": "stderr",
     "output_type": "stream",
     "text": [
      "/Users/elichesnut/Documents/GitHub/MLLab5-2/.venv/lib/python3.12/site-packages/keras/src/models/functional.py:225: UserWarning: The structure of `inputs` doesn't match the expected structure: ['keras_tensor_353', 'keras_tensor_354', 'keras_tensor_355']. Received: the structure of inputs=('*', '*', '*')\n",
      "  warnings.warn(\n"
     ]
    },
    {
     "name": "stdout",
     "output_type": "stream",
     "text": [
      "\u001b[1m7/7\u001b[0m \u001b[32m━━━━━━━━━━━━━━━━━━━━\u001b[0m\u001b[37m\u001b[0m \u001b[1m0s\u001b[0m 4ms/step \n",
      "Fold 3 - Validation Loss: 0.1021, Accuracy: 0.9668, Recall: 0.9652\n"
     ]
    },
    {
     "name": "stderr",
     "output_type": "stream",
     "text": [
      "/Users/elichesnut/Documents/GitHub/MLLab5-2/.venv/lib/python3.12/site-packages/keras/src/models/functional.py:225: UserWarning: The structure of `inputs` doesn't match the expected structure: ['keras_tensor_364', 'keras_tensor_365', 'keras_tensor_366']. Received: the structure of inputs=('*', '*', '*')\n",
      "  warnings.warn(\n"
     ]
    },
    {
     "name": "stdout",
     "output_type": "stream",
     "text": [
      "\u001b[1m7/7\u001b[0m \u001b[32m━━━━━━━━━━━━━━━━━━━━\u001b[0m\u001b[37m\u001b[0m \u001b[1m0s\u001b[0m 4ms/step  \n",
      "Fold 4 - Validation Loss: 0.1217, Accuracy: 0.9573, Recall: 0.9574\n"
     ]
    },
    {
     "name": "stderr",
     "output_type": "stream",
     "text": [
      "/Users/elichesnut/Documents/GitHub/MLLab5-2/.venv/lib/python3.12/site-packages/keras/src/models/functional.py:225: UserWarning: The structure of `inputs` doesn't match the expected structure: ['keras_tensor_375', 'keras_tensor_376', 'keras_tensor_377']. Received: the structure of inputs=('*', '*', '*')\n",
      "  warnings.warn(\n"
     ]
    },
    {
     "name": "stdout",
     "output_type": "stream",
     "text": [
      "\u001b[1m7/7\u001b[0m \u001b[32m━━━━━━━━━━━━━━━━━━━━\u001b[0m\u001b[37m\u001b[0m \u001b[1m0s\u001b[0m 6ms/step \n",
      "Fold 5 - Validation Loss: 0.0642, Accuracy: 0.9810, Recall: 0.9811\n"
     ]
    },
    {
     "name": "stderr",
     "output_type": "stream",
     "text": [
      "/Users/elichesnut/Documents/GitHub/MLLab5-2/.venv/lib/python3.12/site-packages/keras/src/models/functional.py:225: UserWarning: The structure of `inputs` doesn't match the expected structure: ['keras_tensor_386', 'keras_tensor_387', 'keras_tensor_388']. Received: the structure of inputs=('*', '*', '*')\n",
      "  warnings.warn(\n"
     ]
    },
    {
     "name": "stdout",
     "output_type": "stream",
     "text": [
      "\u001b[1m7/7\u001b[0m \u001b[32m━━━━━━━━━━━━━━━━━━━━\u001b[0m\u001b[37m\u001b[0m \u001b[1m0s\u001b[0m 4ms/step \n",
      "Fold 6 - Validation Loss: 0.1012, Accuracy: 0.9763, Recall: 0.9762\n"
     ]
    },
    {
     "name": "stderr",
     "output_type": "stream",
     "text": [
      "/Users/elichesnut/Documents/GitHub/MLLab5-2/.venv/lib/python3.12/site-packages/keras/src/models/functional.py:225: UserWarning: The structure of `inputs` doesn't match the expected structure: ['keras_tensor_397', 'keras_tensor_398', 'keras_tensor_399']. Received: the structure of inputs=('*', '*', '*')\n",
      "  warnings.warn(\n"
     ]
    },
    {
     "name": "stdout",
     "output_type": "stream",
     "text": [
      "\u001b[1m7/7\u001b[0m \u001b[32m━━━━━━━━━━━━━━━━━━━━\u001b[0m\u001b[37m\u001b[0m \u001b[1m0s\u001b[0m 4ms/step \n",
      "Fold 7 - Validation Loss: 0.0914, Accuracy: 0.9668, Recall: 0.9652\n"
     ]
    },
    {
     "name": "stderr",
     "output_type": "stream",
     "text": [
      "/Users/elichesnut/Documents/GitHub/MLLab5-2/.venv/lib/python3.12/site-packages/keras/src/models/functional.py:225: UserWarning: The structure of `inputs` doesn't match the expected structure: ['keras_tensor_408', 'keras_tensor_409', 'keras_tensor_410']. Received: the structure of inputs=('*', '*', '*')\n",
      "  warnings.warn(\n"
     ]
    },
    {
     "name": "stdout",
     "output_type": "stream",
     "text": [
      "\u001b[1m7/7\u001b[0m \u001b[32m━━━━━━━━━━━━━━━━━━━━\u001b[0m\u001b[37m\u001b[0m \u001b[1m0s\u001b[0m 4ms/step  \n",
      "Fold 8 - Validation Loss: 0.0538, Accuracy: 0.9858, Recall: 0.9847\n"
     ]
    },
    {
     "name": "stderr",
     "output_type": "stream",
     "text": [
      "/Users/elichesnut/Documents/GitHub/MLLab5-2/.venv/lib/python3.12/site-packages/keras/src/models/functional.py:225: UserWarning: The structure of `inputs` doesn't match the expected structure: ['keras_tensor_419', 'keras_tensor_420', 'keras_tensor_421']. Received: the structure of inputs=('*', '*', '*')\n",
      "  warnings.warn(\n"
     ]
    },
    {
     "name": "stdout",
     "output_type": "stream",
     "text": [
      "\u001b[1m7/7\u001b[0m \u001b[32m━━━━━━━━━━━━━━━━━━━━\u001b[0m\u001b[37m\u001b[0m \u001b[1m0s\u001b[0m 4ms/step \n",
      "Fold 9 - Validation Loss: 0.1166, Accuracy: 0.9668, Recall: 0.9657\n",
      "Average Recall Score:  0.8634382648914668\n",
      "Average Validation Loss: 0.1291, Average Validation Accuracy: 0.9560\n"
     ]
    }
   ],
   "source": [
    "# Define Stratified KFold with 10 splits\n",
    "kfold_for_validation = StratifiedKFold(n_splits=10)\n",
    "\n",
    "\n",
    "# List to store validation metrics for each fold\n",
    "val_losses = []\n",
    "val_accuracies = []\n",
    "# List to store the history at each\n",
    "histories = []\n",
    "auc_scores_deep = []\n",
    "rec_scores_deep = []\n",
    "\n",
    "# K-Fold Cross-Validation\n",
    "for k, (train_idx, val_idx) in enumerate(kfold_for_validation.split(X,y)):\n",
    "    X_train_fold, X_val_fold = X[train_idx], X[val_idx]\n",
    "    y_train_fold, y_val_fold = y[train_idx], y[val_idx]\n",
    "\n",
    "    X_train_numeric = X_train_fold[:, numeric_feature_indices]\n",
    "    X_train_crossed = np.hstack([\n",
    "        X_train_fold[:, start:end+1] for start, end in crossed_feature_indices\n",
    "    ])\n",
    "    #gets categorical columns for x_train fold\n",
    "    X_train_categorical = X_train_fold[:, categorical_feature_indices]\n",
    "\n",
    "    #get numeric values for the validation set \n",
    "    X_val_numeric = X_val_fold[:, numeric_feature_indices]\n",
    "    X_val_crossed = np.hstack([\n",
    "        X_val_fold[:, start:end+1] for start, end in crossed_feature_indices\n",
    "    ])\n",
    "    #get categorical values for the validation set for the fold \n",
    "    X_val_categorical = X_val_fold[:, categorical_feature_indices]\n",
    "    \n",
    "\n",
    "\n",
    "    # Create a new Keras model for each fold \n",
    "    model_noWide = create_deep_model(numeric_dim=X_train_numeric.shape[1],\n",
    "        crossed_dim=X_train_crossed.shape[1],\n",
    "        categorical_dim=X_train_categorical.shape[1])\n",
    "    \n",
    "    # Use EarlyStopping to avoid overfitting\n",
    "    early_stopping = EarlyStopping(monitor='val_loss', patience=3, restore_best_weights=True)\n",
    "    \n",
    "    # Train the model on the current fold\n",
    "    history = model_noWide.fit([X_train_numeric, X_train_crossed, X_train_categorical],\n",
    "        y_train_fold,\n",
    "        validation_data=(\n",
    "            [X_val_numeric, X_val_crossed, X_val_categorical],\n",
    "            y_val_fold\n",
    "        ),\n",
    "              epochs=50, \n",
    "              batch_size=32, \n",
    "              callbacks=[early_stopping], \n",
    "              verbose=0)\n",
    "    histories.append(history)\n",
    "\n",
    "    y_pred_probs_deep = model_noWide.predict([X_val_numeric, X_val_crossed, X_val_categorical])\n",
    "    y_pred_deep = np.argmax(y_pred_probs_deep, axis=1)\n",
    "\n",
    "    auc_fold_model_deep = roc_auc_score(y_val_fold, y_pred_probs_deep, multi_class='ovr', average='macro')\n",
    "    auc_scores_deep.append(auc_fold_model_deep)\n",
    "\n",
    "    recall = recall_score(y_val_fold, y_pred_deep, average='macro')\n",
    "    rec_scores_deep.append(recall)\n",
    "    \n",
    "    val_loss, val_accuracy = model_noWide.evaluate(\n",
    "        [X_val_numeric, X_val_crossed, X_val_categorical],\n",
    "        y_val_fold,\n",
    "        verbose=0\n",
    "    )\n",
    "    val_losses.append(val_loss)\n",
    "    val_accuracies.append(val_accuracy)\n",
    "\n",
    "    print(f\"Fold {k} - Validation Loss: {val_loss:.4f}, Accuracy: {val_accuracy:.4f}, Recall: {recall:.4f}\")\n",
    "\n",
    "# Calculate average performance metrics across all folds\n",
    "avg_rec = np.mean(rec_scores)\n",
    "avg_val_loss = np.mean(val_losses)\n",
    "avg_val_accuracy = np.mean(val_accuracies)\n",
    "print(\"Average Recall Score: \", avg_rec)\n",
    "print(f\"Average Validation Loss: {avg_val_loss:.4f}, Average Validation Accuracy: {avg_val_accuracy:.4f}\")"
   ]
  },
  {
   "cell_type": "code",
   "execution_count": 39,
   "metadata": {},
   "outputs": [
    {
     "data": {
      "image/png": "[encoded data removed]",
      "text/plain": [
       "<Figure size 640x480 with 1 Axes>"
      ]
     },
     "metadata": {},
     "output_type": "display_data"
    }
   ],
   "source": [
    "import matplotlib.pyplot as plt\n",
    "from sklearn.metrics import roc_curve\n",
    "from matplotlib import pyplot as plt\n",
    "\n",
    "plt.plot(history.history['loss'],label='training')\n",
    "plt.plot(history.history['val_loss'],label='validation')\n",
    "plt.legend()\n",
    "plt.show()\n"
   ]
  },
  {
   "cell_type": "markdown",
   "metadata": {},
   "source": [
    "https://stats.stackexchange.com/questions/222883/why-are-neural-networks-becoming-deeper-but-not-wider/223637#223637\n",
    "\n",
    "\n",
    "The deep model has the highest recall score. This is probably because deep networks, generally speaking, do a better job at generalizing than wide networks (which use memorization). Like i said before, since the classification task is pretty simple, a simple model works well. \n"
   ]
  },
  {
   "cell_type": "code",
   "execution_count": 40,
   "metadata": {},
   "outputs": [
    {
     "name": "stdout",
     "output_type": "stream",
     "text": [
      "T-statistic: 4.8338\n",
      "P-value: 0.0009\n"
     ]
    }
   ],
   "source": [
    "from scipy import stats\n",
    "t_stat, p_value = stats.ttest_rel(rec_scores3, rec_scores)\n",
    "\n",
    "print(f\"T-statistic: {t_stat:.4f}\")\n",
    "print(f\"P-value: {p_value:.4f}\")"
   ]
  },
  {
   "cell_type": "markdown",
   "metadata": {},
   "source": [
    "(Description of the stat test i choose below)\n",
    "\n",
    "Our null hypothesis is that the model 3's recall scores and model 1's recall scores are not statistically different. \n",
    "\n",
    "Based on a standard significance value of .05, we are able to reject the null hypotheses (p = .0076). This allows us to conclude that the the recall scores for model 1 and model 3 are statistically different. More specifically, we can say that the recall score for model 3 is higher than the recall score for model 1. \n",
    "\n",
    "I am not doing a statistic test to compare the recall for model two because the average recall is significantly lower than the recall scores of model 1 and 3. If model one and 3 are statistically different, then model 2 is also statistically different from model 3, so we can conclude that model 3 is the best performing. "
   ]
  },
  {
   "cell_type": "markdown",
   "metadata": {},
   "source": [
    "Out of our wide and deep models, model3 with 2 deep layers had the best performance, seeing as it had the highest accuracy and recall scores. "
   ]
  },
  {
   "cell_type": "code",
   "execution_count": 41,
   "metadata": {},
   "outputs": [
    {
     "name": "stdout",
     "output_type": "stream",
     "text": [
      "Wide & Deep Model AUC: 0.9982\n",
      "Deep Model AUC: 0.9973\n"
     ]
    }
   ],
   "source": [
    "from sklearn.metrics import roc_auc_score\n",
    "\n",
    "\n",
    "\n",
    "auc_wide_deep = roc_auc_score(y_val_fold, y_pred_probs3, multi_class='ovr', average='macro')\n",
    "auc_deep = roc_auc_score(y_val_fold, y_pred_probs_deep, multi_class='ovr', average='macro')\n",
    "\n",
    "print(f\"Wide & Deep Model AUC: {auc_wide_deep:.4f}\")\n",
    "print(f\"Deep Model AUC: {auc_deep:.4f}\")\n"
   ]
  },
  {
   "cell_type": "markdown",
   "metadata": {},
   "source": [
    "Use pval to see if the difference ROC AUC scores is statistically significant enough to indicate a difference in model performance. "
   ]
  },
  {
   "cell_type": "code",
   "execution_count": 42,
   "metadata": {},
   "outputs": [
    {
     "name": "stdout",
     "output_type": "stream",
     "text": [
      "T-statistic: -2.3448\n",
      "P-value: 0.0437\n"
     ]
    }
   ],
   "source": [
    "from scipy import stats\n",
    "\n",
    "# Suppose auc_wide_deep and auc_mlp are arrays of AUC scores for each fold\n",
    "t_stat, p_value = stats.ttest_rel(auc_scores_model3, auc_scores_deep)\n",
    "\n",
    "print(f\"T-statistic: {t_stat:.4f}\")\n",
    "print(f\"P-value: {p_value:.4f}\")\n"
   ]
  },
  {
   "cell_type": "markdown",
   "metadata": {},
   "source": [
    "The AUC score will range between 0 and 1 depending on the performance of the model. The ROC AUC score represents the area under the ROC Curve, which plots the true positive rate over the false positive rate. \n",
    "\n",
    "The  closer the AUC score is to 1.0, the better the model is performing. That being said, both our wide and deep model and the just deep model are performing very well, both having AUC scores over .99. However, the AUC score we get of the deep model has a slightly slightly better (.9993), although this difference may not be statistically significant. \n",
    "\n",
    "Because this is multiclass classification, we use multi_class = ovr, which means that the ROC AUC will be calculated with the one versus rest approach, meaning each class is considered as a seperate binary classification task and the AUC score will be computed for each class. The average AUC score for each class will then be calculated. Because of the ovr parameter, we will get the average AUC scores where each class is weighted equally(macro param assigns equal weights). This works nicely because the classes of the target variable are pretty evenly distributed.\n",
    "\n",
    "I am using p-value to determine if the difference in performance of the two models is statstically significant. This means that it tells us if the models performance is actually different, or if the performance of one is only better than the other due to the choice of data points used for testing/training (or some other random factor), and that if the test was repeated on a different subset of data, it is possible that the other model would have a better performance. \n",
    "\n",
    "Our null hypothesis is that the model's AUC scores are not statistically different. I choose a significance value of .05, which is the standard choice. Because the p-value is lower than the significance value (p = .0236), we reject the null hypothesis and conclude that there is sufficient evidence to conclude that AUC scores of the models are significantly different. \n",
    "\n",
    "This means that we can conclude that the only deep model has a better performance than the wide and deep model (model 3) based on the ROC AUC score, statistically speaking. "
   ]
  }
 ],
 "metadata": {
  "kernelspec": {
   "display_name": ".venv",
   "language": "python",
   "name": "python3"
  },
  "language_info": {
   "codemirror_mode": {
    "name": "ipython",
    "version": 3
   },
   "file_extension": ".py",
   "mimetype": "text/x-python",
   "name": "python",
   "nbconvert_exporter": "python",
   "pygments_lexer": "ipython3",
   "version": "3.12.6"
  }
 },
 "nbformat": 4,
 "nbformat_minor": 2
}
